{
  "metadata": {
    "kernelspec": {
      "display_name": "Python (env jeroen)",
      "name": "py-dku-venv-jeroen",
      "language": "python"
    },
    "language_info": {
      "mimetype": "text/x-python",
      "nbconvert_exporter": "python",
      "version": "3.6.10",
      "name": "python",
      "pygments_lexer": "ipython3",
      "file_extension": ".py",
      "codemirror_mode": {
        "version": 3,
        "name": "ipython"
      }
    },
    "tags": [
      "recipe-editor"
    ],
    "associatedRecipe": "compute_VO_data",
    "createdOn": 1620845393938,
    "hide_input": false,
    "modifiedBy": "admin_silvisj",
    "customFields": {},
    "creator": "admin_silvisj"
  },
  "nbformat": 4,
  "nbformat_minor": 1,
  "cells": [
    {
      "execution_count": 1,
      "cell_type": "code",
      "metadata": {},
      "source": [
        "BESTANDSNAAM \u003d \u0027NL-20190108.zip\u0027"
      ],
      "outputs": []
    },
    {
      "execution_count": 2,
      "cell_type": "code",
      "metadata": {},
      "source": [
        "# -*- coding: utf-8 -*-\nimport dataiku\nimport pandas as pd, numpy as np\nfrom dataiku import pandasutils as pdu"
      ],
      "outputs": []
    },
    {
      "execution_count": 3,
      "cell_type": "code",
      "metadata": {},
      "source": [
        "import gtfs_kit as gk\nimport geopandas as gpd\nimport shapely\nimport re\nfrom shapely.geometry import Point\nimport folium"
      ],
      "outputs": []
    },
    {
      "cell_type": "markdown",
      "metadata": {},
      "source": [
        "# Inladen data"
      ]
    },
    {
      "execution_count": 4,
      "cell_type": "code",
      "metadata": {},
      "source": [
        "# Read recipe inputs\ninput_folder \u003d dataiku.Folder(\"1YFDah2D\")\ninput_folder_path \u003d input_folder.get_path()\n# orgineel\n#filename \u003d input_folder_path + \u0027/gtfs (1).zip\u0027\n# nieuwe versie\nfilename \u003d input_folder_path + \u0027/\u0027 + BESTANDSNAAM\n# jaar 2020\n#filename \u003d input_folder_path + \u0027/NL-20200115.zip\u0027"
      ],
      "outputs": []
    },
    {
      "execution_count": 5,
      "cell_type": "code",
      "metadata": {},
      "source": [
        "hub_mapping \u003d dataiku.Dataset(\"hupmapping_optimal\")\nhub_mapping_df \u003d hub_mapping.get_dataframe()"
      ],
      "outputs": []
    },
    {
      "execution_count": 6,
      "cell_type": "code",
      "metadata": {},
      "source": [
        "stationsnamen \u003d dataiku.Dataset(\"Stationsnamen\")\nstationsnamen_df \u003d stationsnamen.get_dataframe()"
      ],
      "outputs": []
    },
    {
      "cell_type": "markdown",
      "metadata": {},
      "source": [
        "# Evaluatie van de feed bestanden en kwaliteit van de data"
      ]
    },
    {
      "execution_count": 7,
      "cell_type": "code",
      "metadata": {},
      "source": [
        "gk.list_feed(filename)"
      ],
      "outputs": [
        {
          "output_type": "execute_result",
          "metadata": {},
          "data": {
            "text/plain": "            file_name  file_size\n0          agency.txt       2775\n1  calendar_dates.txt    1930144\n2       feed_info.txt        155\n3          routes.txt     182024\n4          shapes.txt  110607775\n5      stop_times.txt  791442482\n6           stops.txt    5254081\n7       transfers.txt    1566743\n8           trips.txt   49409035",
            "text/html": "\n            \u003cbutton style\u003d\"display:none\" \n            class\u003d\"btn btn-default ipython-export-btn\" \n            id\u003d\"btn-df-d9e66a61-d4f8-4a49-b992-ed64cb4f0535\" \n            onclick\u003d\"_export_df(\u0027d9e66a61-d4f8-4a49-b992-ed64cb4f0535\u0027)\"\u003e\n                Export dataframe\n            \u003c/button\u003e\n            \n            \u003cscript\u003e\n                \n                function _check_export_df_possible(dfid,yes_fn,no_fn) {\n                    console.log(\u0027Checking dataframe exportability...\u0027)\n                    if(!IPython || !IPython.notebook || !IPython.notebook.kernel || !IPython.notebook.kernel) {\n                        console.log(\u0027Export is not possible (IPython kernel is not available)\u0027)\n                        if(no_fn) {\n                            no_fn();\n                        }\n                    } else {\n                        var pythonCode \u003d \u0027from dataiku.notebook.export import IPythonExporter;IPythonExporter._check_export_stdout(\"\u0027+dfid+\u0027\")\u0027;\n                        IPython.notebook.kernel.execute(pythonCode,{iopub: {output: function(resp) {\n                            console.info(\"Exportability response\", resp);\n                            var size \u003d /^([0-9]+)x([0-9]+)$/.exec(resp.content.data || resp.content.text)\n                            if(!size) {\n                                console.log(\u0027Export is not possible (dataframe is not in-memory anymore)\u0027)\n                                if(no_fn) {\n                                    no_fn();\n                                }\n                            } else {\n                                console.log(\u0027Export is possible\u0027)\n                                if(yes_fn) {\n                                    yes_fn(1*size[1],1*size[2]);\n                                }\n                            }\n                        }}});\n                    }\n                }\n            \n                function _export_df(dfid) {\n                    \n                    var btn \u003d $(\u0027#btn-df-\u0027+dfid);\n                    var btns \u003d $(\u0027.ipython-export-btn\u0027);\n                    \n                    _check_export_df_possible(dfid,function() {\n                        \n                        window.parent.openExportModalFromIPython(\u0027Pandas dataframe\u0027,function(data) {\n                            btns.prop(\u0027disabled\u0027,true);\n                            btn.text(\u0027Exporting...\u0027);\n                            var command \u003d \u0027from dataiku.notebook.export import IPythonExporter;IPythonExporter._run_export(\"\u0027+dfid+\u0027\",\"\u0027+data.exportId+\u0027\")\u0027;\n                            var callback \u003d {iopub:{output: function(resp) {\n                                console.info(\"CB resp:\", resp);\n                                _check_export_df_possible(dfid,function(rows, cols) {\n                                    $(\u0027#btn-df-\u0027+dfid)\n                                        .css(\u0027display\u0027,\u0027inline-block\u0027)\n                                        .text(\u0027Export this dataframe (\u0027+rows+\u0027 rows, \u0027+cols+\u0027 cols)\u0027)\n                                        .prop(\u0027disabled\u0027,false);\n                                },function() {\n                                    $(\u0027#btn-df-\u0027+dfid).css(\u0027display\u0027,\u0027none\u0027);\n                                });\n                            }}};\n                            IPython.notebook.kernel.execute(command,callback,{silent:false}); // yes, silent now defaults to true. figures.\n                        });\n                    \n                    }, function(){\n                            alert(\u0027Unable to export : the Dataframe object is not loaded in memory\u0027);\n                            btn.css(\u0027display\u0027,\u0027none\u0027);\n                    });\n                    \n                }\n                \n                (function(dfid) {\n                \n                    var retryCount \u003d 10;\n                \n                    function is_valid_websock(s) {\n                        return s \u0026\u0026 s.readyState\u003d\u003d1;\n                    }\n                \n                    function check_conn() {\n                        \n                        if(!IPython || !IPython.notebook) {\n                            // Don\u0027t even try to go further\n                            return;\n                        }\n                        \n                        // Check if IPython is ready\n                        console.info(\"Checking conn ...\")\n                        if(IPython.notebook.kernel\n                        \u0026\u0026 IPython.notebook.kernel\n                        \u0026\u0026 is_valid_websock(IPython.notebook.kernel.ws)\n                        ) {\n                            \n                            _check_export_df_possible(dfid,function(rows, cols) {\n                                $(\u0027#btn-df-\u0027+dfid).css(\u0027display\u0027,\u0027inline-block\u0027);\n                                $(\u0027#btn-df-\u0027+dfid).text(\u0027Export this dataframe (\u0027+rows+\u0027 rows, \u0027+cols+\u0027 cols)\u0027);\n                            });\n                            \n                        } else {\n                            console.info(\"Conditions are not ok\", IPython.notebook.kernel);\n                            \n                            // Retry later\n                            \n                            if(retryCount\u003e0) {\n                                setTimeout(check_conn,500);\n                                retryCount--;\n                            }\n                            \n                        }\n                    };\n                    \n                    setTimeout(check_conn,100);\n                    \n                })(\"d9e66a61-d4f8-4a49-b992-ed64cb4f0535\");\n                \n            \u003c/script\u003e\n            \n        \u003cdiv\u003e\n\u003cstyle scoped\u003e\n    .dataframe tbody tr th:only-of-type {\n        vertical-align: middle;\n    }\n\n    .dataframe tbody tr th {\n        vertical-align: top;\n    }\n\n    .dataframe thead th {\n        text-align: right;\n    }\n\u003c/style\u003e\n\u003ctable border\u003d\"1\" class\u003d\"dataframe\"\u003e\n  \u003cthead\u003e\n    \u003ctr style\u003d\"text-align: right;\"\u003e\n      \u003cth\u003e\u003c/th\u003e\n      \u003cth\u003efile_name\u003c/th\u003e\n      \u003cth\u003efile_size\u003c/th\u003e\n    \u003c/tr\u003e\n  \u003c/thead\u003e\n  \u003ctbody\u003e\n    \u003ctr\u003e\n      \u003cth\u003e0\u003c/th\u003e\n      \u003ctd\u003eagency.txt\u003c/td\u003e\n      \u003ctd\u003e2775\u003c/td\u003e\n    \u003c/tr\u003e\n    \u003ctr\u003e\n      \u003cth\u003e1\u003c/th\u003e\n      \u003ctd\u003ecalendar_dates.txt\u003c/td\u003e\n      \u003ctd\u003e1930144\u003c/td\u003e\n    \u003c/tr\u003e\n    \u003ctr\u003e\n      \u003cth\u003e2\u003c/th\u003e\n      \u003ctd\u003efeed_info.txt\u003c/td\u003e\n      \u003ctd\u003e155\u003c/td\u003e\n    \u003c/tr\u003e\n    \u003ctr\u003e\n      \u003cth\u003e3\u003c/th\u003e\n      \u003ctd\u003eroutes.txt\u003c/td\u003e\n      \u003ctd\u003e182024\u003c/td\u003e\n    \u003c/tr\u003e\n    \u003ctr\u003e\n      \u003cth\u003e4\u003c/th\u003e\n      \u003ctd\u003eshapes.txt\u003c/td\u003e\n      \u003ctd\u003e110607775\u003c/td\u003e\n    \u003c/tr\u003e\n    \u003ctr\u003e\n      \u003cth\u003e5\u003c/th\u003e\n      \u003ctd\u003estop_times.txt\u003c/td\u003e\n      \u003ctd\u003e791442482\u003c/td\u003e\n    \u003c/tr\u003e\n    \u003ctr\u003e\n      \u003cth\u003e6\u003c/th\u003e\n      \u003ctd\u003estops.txt\u003c/td\u003e\n      \u003ctd\u003e5254081\u003c/td\u003e\n    \u003c/tr\u003e\n    \u003ctr\u003e\n      \u003cth\u003e7\u003c/th\u003e\n      \u003ctd\u003etransfers.txt\u003c/td\u003e\n      \u003ctd\u003e1566743\u003c/td\u003e\n    \u003c/tr\u003e\n    \u003ctr\u003e\n      \u003cth\u003e8\u003c/th\u003e\n      \u003ctd\u003etrips.txt\u003c/td\u003e\n      \u003ctd\u003e49409035\u003c/td\u003e\n    \u003c/tr\u003e\n  \u003c/tbody\u003e\n\u003c/table\u003e\n\u003c/div\u003e"
          },
          "execution_count": 7
        }
      ]
    },
    {
      "execution_count": 8,
      "cell_type": "code",
      "metadata": {},
      "source": [
        "feed \u003d gk.read_feed(filename, dist_units\u003d\u0027km\u0027)\nfeed.describe()"
      ],
      "outputs": [
        {
          "output_type": "stream",
          "name": "stderr",
          "text": "/home/dataiku/dss/code-envs/python/jeroen/lib/python3.6/site-packages/IPython/core/interactiveshell.py:3343: DtypeWarning: Columns (9) have mixed types. Specify dtype option on import or set low_memory\u003dFalse.\n  exec(code_obj, self.user_global_ns, self.user_ns)\n"
        },
        {
          "output_type": "execute_result",
          "metadata": {},
          "data": {
            "text/plain": "                           indicator                                              value\n0                           agencies  [allGo (Keolis), Arriva, Bravo (Arriva), Bravo...\n1                           timezone                                   Europe/Amsterdam\n2                         start_date                                           20190108\n3                           end_date                                           20190804\n4                         num_routes                                               2669\n5                          num_trips                                             661616\n6                          num_stops                                              66576\n7                         num_shapes                                               8174\n8                        sample_date                                           20190117\n9   num_routes_active_on_sample_date                                               2482\n10   num_trips_active_on_sample_date                                             123276\n11   num_stops_active_on_sample_date                                              48688",
            "text/html": "\n            \u003cbutton style\u003d\"display:none\" \n            class\u003d\"btn btn-default ipython-export-btn\" \n            id\u003d\"btn-df-4b1f2a3e-0195-4ab1-abec-59aa86a197ef\" \n            onclick\u003d\"_export_df(\u00274b1f2a3e-0195-4ab1-abec-59aa86a197ef\u0027)\"\u003e\n                Export dataframe\n            \u003c/button\u003e\n            \n            \u003cscript\u003e\n                \n                function _check_export_df_possible(dfid,yes_fn,no_fn) {\n                    console.log(\u0027Checking dataframe exportability...\u0027)\n                    if(!IPython || !IPython.notebook || !IPython.notebook.kernel || !IPython.notebook.kernel) {\n                        console.log(\u0027Export is not possible (IPython kernel is not available)\u0027)\n                        if(no_fn) {\n                            no_fn();\n                        }\n                    } else {\n                        var pythonCode \u003d \u0027from dataiku.notebook.export import IPythonExporter;IPythonExporter._check_export_stdout(\"\u0027+dfid+\u0027\")\u0027;\n                        IPython.notebook.kernel.execute(pythonCode,{iopub: {output: function(resp) {\n                            console.info(\"Exportability response\", resp);\n                            var size \u003d /^([0-9]+)x([0-9]+)$/.exec(resp.content.data || resp.content.text)\n                            if(!size) {\n                                console.log(\u0027Export is not possible (dataframe is not in-memory anymore)\u0027)\n                                if(no_fn) {\n                                    no_fn();\n                                }\n                            } else {\n                                console.log(\u0027Export is possible\u0027)\n                                if(yes_fn) {\n                                    yes_fn(1*size[1],1*size[2]);\n                                }\n                            }\n                        }}});\n                    }\n                }\n            \n                function _export_df(dfid) {\n                    \n                    var btn \u003d $(\u0027#btn-df-\u0027+dfid);\n                    var btns \u003d $(\u0027.ipython-export-btn\u0027);\n                    \n                    _check_export_df_possible(dfid,function() {\n                        \n                        window.parent.openExportModalFromIPython(\u0027Pandas dataframe\u0027,function(data) {\n                            btns.prop(\u0027disabled\u0027,true);\n                            btn.text(\u0027Exporting...\u0027);\n                            var command \u003d \u0027from dataiku.notebook.export import IPythonExporter;IPythonExporter._run_export(\"\u0027+dfid+\u0027\",\"\u0027+data.exportId+\u0027\")\u0027;\n                            var callback \u003d {iopub:{output: function(resp) {\n                                console.info(\"CB resp:\", resp);\n                                _check_export_df_possible(dfid,function(rows, cols) {\n                                    $(\u0027#btn-df-\u0027+dfid)\n                                        .css(\u0027display\u0027,\u0027inline-block\u0027)\n                                        .text(\u0027Export this dataframe (\u0027+rows+\u0027 rows, \u0027+cols+\u0027 cols)\u0027)\n                                        .prop(\u0027disabled\u0027,false);\n                                },function() {\n                                    $(\u0027#btn-df-\u0027+dfid).css(\u0027display\u0027,\u0027none\u0027);\n                                });\n                            }}};\n                            IPython.notebook.kernel.execute(command,callback,{silent:false}); // yes, silent now defaults to true. figures.\n                        });\n                    \n                    }, function(){\n                            alert(\u0027Unable to export : the Dataframe object is not loaded in memory\u0027);\n                            btn.css(\u0027display\u0027,\u0027none\u0027);\n                    });\n                    \n                }\n                \n                (function(dfid) {\n                \n                    var retryCount \u003d 10;\n                \n                    function is_valid_websock(s) {\n                        return s \u0026\u0026 s.readyState\u003d\u003d1;\n                    }\n                \n                    function check_conn() {\n                        \n                        if(!IPython || !IPython.notebook) {\n                            // Don\u0027t even try to go further\n                            return;\n                        }\n                        \n                        // Check if IPython is ready\n                        console.info(\"Checking conn ...\")\n                        if(IPython.notebook.kernel\n                        \u0026\u0026 IPython.notebook.kernel\n                        \u0026\u0026 is_valid_websock(IPython.notebook.kernel.ws)\n                        ) {\n                            \n                            _check_export_df_possible(dfid,function(rows, cols) {\n                                $(\u0027#btn-df-\u0027+dfid).css(\u0027display\u0027,\u0027inline-block\u0027);\n                                $(\u0027#btn-df-\u0027+dfid).text(\u0027Export this dataframe (\u0027+rows+\u0027 rows, \u0027+cols+\u0027 cols)\u0027);\n                            });\n                            \n                        } else {\n                            console.info(\"Conditions are not ok\", IPython.notebook.kernel);\n                            \n                            // Retry later\n                            \n                            if(retryCount\u003e0) {\n                                setTimeout(check_conn,500);\n                                retryCount--;\n                            }\n                            \n                        }\n                    };\n                    \n                    setTimeout(check_conn,100);\n                    \n                })(\"4b1f2a3e-0195-4ab1-abec-59aa86a197ef\");\n                \n            \u003c/script\u003e\n            \n        \u003cdiv\u003e\n\u003cstyle scoped\u003e\n    .dataframe tbody tr th:only-of-type {\n        vertical-align: middle;\n    }\n\n    .dataframe tbody tr th {\n        vertical-align: top;\n    }\n\n    .dataframe thead th {\n        text-align: right;\n    }\n\u003c/style\u003e\n\u003ctable border\u003d\"1\" class\u003d\"dataframe\"\u003e\n  \u003cthead\u003e\n    \u003ctr style\u003d\"text-align: right;\"\u003e\n      \u003cth\u003e\u003c/th\u003e\n      \u003cth\u003eindicator\u003c/th\u003e\n      \u003cth\u003evalue\u003c/th\u003e\n    \u003c/tr\u003e\n  \u003c/thead\u003e\n  \u003ctbody\u003e\n    \u003ctr\u003e\n      \u003cth\u003e0\u003c/th\u003e\n      \u003ctd\u003eagencies\u003c/td\u003e\n      \u003ctd\u003e[allGo (Keolis), Arriva, Bravo (Arriva), Bravo...\u003c/td\u003e\n    \u003c/tr\u003e\n    \u003ctr\u003e\n      \u003cth\u003e1\u003c/th\u003e\n      \u003ctd\u003etimezone\u003c/td\u003e\n      \u003ctd\u003eEurope/Amsterdam\u003c/td\u003e\n    \u003c/tr\u003e\n    \u003ctr\u003e\n      \u003cth\u003e2\u003c/th\u003e\n      \u003ctd\u003estart_date\u003c/td\u003e\n      \u003ctd\u003e20190108\u003c/td\u003e\n    \u003c/tr\u003e\n    \u003ctr\u003e\n      \u003cth\u003e3\u003c/th\u003e\n      \u003ctd\u003eend_date\u003c/td\u003e\n      \u003ctd\u003e20190804\u003c/td\u003e\n    \u003c/tr\u003e\n    \u003ctr\u003e\n      \u003cth\u003e4\u003c/th\u003e\n      \u003ctd\u003enum_routes\u003c/td\u003e\n      \u003ctd\u003e2669\u003c/td\u003e\n    \u003c/tr\u003e\n    \u003ctr\u003e\n      \u003cth\u003e5\u003c/th\u003e\n      \u003ctd\u003enum_trips\u003c/td\u003e\n      \u003ctd\u003e661616\u003c/td\u003e\n    \u003c/tr\u003e\n    \u003ctr\u003e\n      \u003cth\u003e6\u003c/th\u003e\n      \u003ctd\u003enum_stops\u003c/td\u003e\n      \u003ctd\u003e66576\u003c/td\u003e\n    \u003c/tr\u003e\n    \u003ctr\u003e\n      \u003cth\u003e7\u003c/th\u003e\n      \u003ctd\u003enum_shapes\u003c/td\u003e\n      \u003ctd\u003e8174\u003c/td\u003e\n    \u003c/tr\u003e\n    \u003ctr\u003e\n      \u003cth\u003e8\u003c/th\u003e\n      \u003ctd\u003esample_date\u003c/td\u003e\n      \u003ctd\u003e20190117\u003c/td\u003e\n    \u003c/tr\u003e\n    \u003ctr\u003e\n      \u003cth\u003e9\u003c/th\u003e\n      \u003ctd\u003enum_routes_active_on_sample_date\u003c/td\u003e\n      \u003ctd\u003e2482\u003c/td\u003e\n    \u003c/tr\u003e\n    \u003ctr\u003e\n      \u003cth\u003e10\u003c/th\u003e\n      \u003ctd\u003enum_trips_active_on_sample_date\u003c/td\u003e\n      \u003ctd\u003e123276\u003c/td\u003e\n    \u003c/tr\u003e\n    \u003ctr\u003e\n      \u003cth\u003e11\u003c/th\u003e\n      \u003ctd\u003enum_stops_active_on_sample_date\u003c/td\u003e\n      \u003ctd\u003e48688\u003c/td\u003e\n    \u003c/tr\u003e\n  \u003c/tbody\u003e\n\u003c/table\u003e\n\u003c/div\u003e"
          },
          "execution_count": 8
        }
      ]
    },
    {
      "execution_count": 9,
      "cell_type": "code",
      "metadata": {
        "scrolled": true
      },
      "source": [
        "feed.validate()"
      ],
      "outputs": [
        {
          "output_type": "execute_result",
          "metadata": {},
          "data": {
            "text/plain": "       type                                            message       table                                               rows\n0   warning                        Unrecognized column feed_id   feed_info                                                 []\n1   warning  Repeated pair (route_short_name, route_long_name)      routes  [571, 1288, 1289, 1359, 1362, 1430, 1434, 1475...\n4   warning            Unrecognized column fare_units_traveled  stop_times                                                 []\n5   warning            Repeated pair (trip_id, departure_time)  stop_times  [8992876, 7262369, 541259, 1052095, 7711099, 6...\n2   warning                  Unrecognized column platform_code       stops                                                 []\n3   warning                             Stop has no stop times       stops  [774, 3674, 4039, 5918, 6326, 8602, 9939, 1066...\n6   warning                  Unrecognized column from_route_id   transfers                                                 []\n7   warning                    Unrecognized column to_route_id   transfers                                                 []\n8   warning                   Unrecognized column from_trip_id   transfers                                                 []\n9   warning                     Unrecognized column to_trip_id   transfers                                                 []\n10  warning               Unrecognized column realtime_trip_id       trips                                                 []\n11  warning                 Unrecognized column trip_long_name       trips                                                 []",
            "text/html": "\n            \u003cbutton style\u003d\"display:none\" \n            class\u003d\"btn btn-default ipython-export-btn\" \n            id\u003d\"btn-df-11fb6085-a070-42ac-bfd4-33a67094a7bb\" \n            onclick\u003d\"_export_df(\u002711fb6085-a070-42ac-bfd4-33a67094a7bb\u0027)\"\u003e\n                Export dataframe\n            \u003c/button\u003e\n            \n            \u003cscript\u003e\n                \n                function _check_export_df_possible(dfid,yes_fn,no_fn) {\n                    console.log(\u0027Checking dataframe exportability...\u0027)\n                    if(!IPython || !IPython.notebook || !IPython.notebook.kernel || !IPython.notebook.kernel) {\n                        console.log(\u0027Export is not possible (IPython kernel is not available)\u0027)\n                        if(no_fn) {\n                            no_fn();\n                        }\n                    } else {\n                        var pythonCode \u003d \u0027from dataiku.notebook.export import IPythonExporter;IPythonExporter._check_export_stdout(\"\u0027+dfid+\u0027\")\u0027;\n                        IPython.notebook.kernel.execute(pythonCode,{iopub: {output: function(resp) {\n                            console.info(\"Exportability response\", resp);\n                            var size \u003d /^([0-9]+)x([0-9]+)$/.exec(resp.content.data || resp.content.text)\n                            if(!size) {\n                                console.log(\u0027Export is not possible (dataframe is not in-memory anymore)\u0027)\n                                if(no_fn) {\n                                    no_fn();\n                                }\n                            } else {\n                                console.log(\u0027Export is possible\u0027)\n                                if(yes_fn) {\n                                    yes_fn(1*size[1],1*size[2]);\n                                }\n                            }\n                        }}});\n                    }\n                }\n            \n                function _export_df(dfid) {\n                    \n                    var btn \u003d $(\u0027#btn-df-\u0027+dfid);\n                    var btns \u003d $(\u0027.ipython-export-btn\u0027);\n                    \n                    _check_export_df_possible(dfid,function() {\n                        \n                        window.parent.openExportModalFromIPython(\u0027Pandas dataframe\u0027,function(data) {\n                            btns.prop(\u0027disabled\u0027,true);\n                            btn.text(\u0027Exporting...\u0027);\n                            var command \u003d \u0027from dataiku.notebook.export import IPythonExporter;IPythonExporter._run_export(\"\u0027+dfid+\u0027\",\"\u0027+data.exportId+\u0027\")\u0027;\n                            var callback \u003d {iopub:{output: function(resp) {\n                                console.info(\"CB resp:\", resp);\n                                _check_export_df_possible(dfid,function(rows, cols) {\n                                    $(\u0027#btn-df-\u0027+dfid)\n                                        .css(\u0027display\u0027,\u0027inline-block\u0027)\n                                        .text(\u0027Export this dataframe (\u0027+rows+\u0027 rows, \u0027+cols+\u0027 cols)\u0027)\n                                        .prop(\u0027disabled\u0027,false);\n                                },function() {\n                                    $(\u0027#btn-df-\u0027+dfid).css(\u0027display\u0027,\u0027none\u0027);\n                                });\n                            }}};\n                            IPython.notebook.kernel.execute(command,callback,{silent:false}); // yes, silent now defaults to true. figures.\n                        });\n                    \n                    }, function(){\n                            alert(\u0027Unable to export : the Dataframe object is not loaded in memory\u0027);\n                            btn.css(\u0027display\u0027,\u0027none\u0027);\n                    });\n                    \n                }\n                \n                (function(dfid) {\n                \n                    var retryCount \u003d 10;\n                \n                    function is_valid_websock(s) {\n                        return s \u0026\u0026 s.readyState\u003d\u003d1;\n                    }\n                \n                    function check_conn() {\n                        \n                        if(!IPython || !IPython.notebook) {\n                            // Don\u0027t even try to go further\n                            return;\n                        }\n                        \n                        // Check if IPython is ready\n                        console.info(\"Checking conn ...\")\n                        if(IPython.notebook.kernel\n                        \u0026\u0026 IPython.notebook.kernel\n                        \u0026\u0026 is_valid_websock(IPython.notebook.kernel.ws)\n                        ) {\n                            \n                            _check_export_df_possible(dfid,function(rows, cols) {\n                                $(\u0027#btn-df-\u0027+dfid).css(\u0027display\u0027,\u0027inline-block\u0027);\n                                $(\u0027#btn-df-\u0027+dfid).text(\u0027Export this dataframe (\u0027+rows+\u0027 rows, \u0027+cols+\u0027 cols)\u0027);\n                            });\n                            \n                        } else {\n                            console.info(\"Conditions are not ok\", IPython.notebook.kernel);\n                            \n                            // Retry later\n                            \n                            if(retryCount\u003e0) {\n                                setTimeout(check_conn,500);\n                                retryCount--;\n                            }\n                            \n                        }\n                    };\n                    \n                    setTimeout(check_conn,100);\n                    \n                })(\"11fb6085-a070-42ac-bfd4-33a67094a7bb\");\n                \n            \u003c/script\u003e\n            \n        \u003cdiv\u003e\n\u003cstyle scoped\u003e\n    .dataframe tbody tr th:only-of-type {\n        vertical-align: middle;\n    }\n\n    .dataframe tbody tr th {\n        vertical-align: top;\n    }\n\n    .dataframe thead th {\n        text-align: right;\n    }\n\u003c/style\u003e\n\u003ctable border\u003d\"1\" class\u003d\"dataframe\"\u003e\n  \u003cthead\u003e\n    \u003ctr style\u003d\"text-align: right;\"\u003e\n      \u003cth\u003e\u003c/th\u003e\n      \u003cth\u003etype\u003c/th\u003e\n      \u003cth\u003emessage\u003c/th\u003e\n      \u003cth\u003etable\u003c/th\u003e\n      \u003cth\u003erows\u003c/th\u003e\n    \u003c/tr\u003e\n  \u003c/thead\u003e\n  \u003ctbody\u003e\n    \u003ctr\u003e\n      \u003cth\u003e0\u003c/th\u003e\n      \u003ctd\u003ewarning\u003c/td\u003e\n      \u003ctd\u003eUnrecognized column feed_id\u003c/td\u003e\n      \u003ctd\u003efeed_info\u003c/td\u003e\n      \u003ctd\u003e[]\u003c/td\u003e\n    \u003c/tr\u003e\n    \u003ctr\u003e\n      \u003cth\u003e1\u003c/th\u003e\n      \u003ctd\u003ewarning\u003c/td\u003e\n      \u003ctd\u003eRepeated pair (route_short_name, route_long_name)\u003c/td\u003e\n      \u003ctd\u003eroutes\u003c/td\u003e\n      \u003ctd\u003e[571, 1288, 1289, 1359, 1362, 1430, 1434, 1475...\u003c/td\u003e\n    \u003c/tr\u003e\n    \u003ctr\u003e\n      \u003cth\u003e4\u003c/th\u003e\n      \u003ctd\u003ewarning\u003c/td\u003e\n      \u003ctd\u003eUnrecognized column fare_units_traveled\u003c/td\u003e\n      \u003ctd\u003estop_times\u003c/td\u003e\n      \u003ctd\u003e[]\u003c/td\u003e\n    \u003c/tr\u003e\n    \u003ctr\u003e\n      \u003cth\u003e5\u003c/th\u003e\n      \u003ctd\u003ewarning\u003c/td\u003e\n      \u003ctd\u003eRepeated pair (trip_id, departure_time)\u003c/td\u003e\n      \u003ctd\u003estop_times\u003c/td\u003e\n      \u003ctd\u003e[8992876, 7262369, 541259, 1052095, 7711099, 6...\u003c/td\u003e\n    \u003c/tr\u003e\n    \u003ctr\u003e\n      \u003cth\u003e2\u003c/th\u003e\n      \u003ctd\u003ewarning\u003c/td\u003e\n      \u003ctd\u003eUnrecognized column platform_code\u003c/td\u003e\n      \u003ctd\u003estops\u003c/td\u003e\n      \u003ctd\u003e[]\u003c/td\u003e\n    \u003c/tr\u003e\n    \u003ctr\u003e\n      \u003cth\u003e3\u003c/th\u003e\n      \u003ctd\u003ewarning\u003c/td\u003e\n      \u003ctd\u003eStop has no stop times\u003c/td\u003e\n      \u003ctd\u003estops\u003c/td\u003e\n      \u003ctd\u003e[774, 3674, 4039, 5918, 6326, 8602, 9939, 1066...\u003c/td\u003e\n    \u003c/tr\u003e\n    \u003ctr\u003e\n      \u003cth\u003e6\u003c/th\u003e\n      \u003ctd\u003ewarning\u003c/td\u003e\n      \u003ctd\u003eUnrecognized column from_route_id\u003c/td\u003e\n      \u003ctd\u003etransfers\u003c/td\u003e\n      \u003ctd\u003e[]\u003c/td\u003e\n    \u003c/tr\u003e\n    \u003ctr\u003e\n      \u003cth\u003e7\u003c/th\u003e\n      \u003ctd\u003ewarning\u003c/td\u003e\n      \u003ctd\u003eUnrecognized column to_route_id\u003c/td\u003e\n      \u003ctd\u003etransfers\u003c/td\u003e\n      \u003ctd\u003e[]\u003c/td\u003e\n    \u003c/tr\u003e\n    \u003ctr\u003e\n      \u003cth\u003e8\u003c/th\u003e\n      \u003ctd\u003ewarning\u003c/td\u003e\n      \u003ctd\u003eUnrecognized column from_trip_id\u003c/td\u003e\n      \u003ctd\u003etransfers\u003c/td\u003e\n      \u003ctd\u003e[]\u003c/td\u003e\n    \u003c/tr\u003e\n    \u003ctr\u003e\n      \u003cth\u003e9\u003c/th\u003e\n      \u003ctd\u003ewarning\u003c/td\u003e\n      \u003ctd\u003eUnrecognized column to_trip_id\u003c/td\u003e\n      \u003ctd\u003etransfers\u003c/td\u003e\n      \u003ctd\u003e[]\u003c/td\u003e\n    \u003c/tr\u003e\n    \u003ctr\u003e\n      \u003cth\u003e10\u003c/th\u003e\n      \u003ctd\u003ewarning\u003c/td\u003e\n      \u003ctd\u003eUnrecognized column realtime_trip_id\u003c/td\u003e\n      \u003ctd\u003etrips\u003c/td\u003e\n      \u003ctd\u003e[]\u003c/td\u003e\n    \u003c/tr\u003e\n    \u003ctr\u003e\n      \u003cth\u003e11\u003c/th\u003e\n      \u003ctd\u003ewarning\u003c/td\u003e\n      \u003ctd\u003eUnrecognized column trip_long_name\u003c/td\u003e\n      \u003ctd\u003etrips\u003c/td\u003e\n      \u003ctd\u003e[]\u003c/td\u003e\n    \u003c/tr\u003e\n  \u003c/tbody\u003e\n\u003c/table\u003e\n\u003c/div\u003e"
          },
          "execution_count": 9
        }
      ]
    },
    {
      "execution_count": 10,
      "cell_type": "code",
      "metadata": {},
      "source": [
        "week \u003d feed.get_first_week()\ndates \u003d [week[1:3]] # selectie van dagen"
      ],
      "outputs": []
    },
    {
      "cell_type": "markdown",
      "metadata": {},
      "source": [
        "# De juiste data uit feed selecteren (in 2 stappen)"
      ]
    },
    {
      "cell_type": "markdown",
      "metadata": {},
      "source": [
        "## 1  Alleen de interessante hubs"
      ]
    },
    {
      "execution_count": 11,
      "cell_type": "code",
      "metadata": {},
      "source": [
        "hubs \u003d hub_mapping_df[[\u0027geometry\u0027,\u0027hub\u0027]].drop_duplicates()\nhubs[\u0027geometry\u0027] \u003d hubs[\u0027geometry\u0027].apply(shapely.wkt.loads)\nhubs_geo \u003d gpd.GeoDataFrame(hubs, geometry \u003d \u0027geometry\u0027, crs \u003d \u0027epsg:4326\u0027)\nhubs_geo.geometry \u003d hubs_geo.geometry.map(lambda polygon: shapely.ops.transform(lambda x, y: (y, x), polygon))"
      ],
      "outputs": []
    },
    {
      "execution_count": 12,
      "cell_type": "code",
      "metadata": {},
      "source": [
        "feed_beperkt \u003d gk.miscellany.restrict_to_area(feed, hubs_geo)\nfeed_beperkter \u003d gk.miscellany.restrict_to_dates(feed_beperkt, dates \u003d dates[0])"
      ],
      "outputs": []
    },
    {
      "cell_type": "markdown",
      "metadata": {},
      "source": [
        "### Voor checks kan met onderstaande cel een kaartje van één specifieke hub worden geplot"
      ]
    },
    {
      "execution_count": 13,
      "cell_type": "code",
      "metadata": {},
      "source": [
        "# 1 hub, kaartje\n#geselecteerde_hub \u003d \u00272.01\u0027\n#feed_beperktst \u003d gk.miscellany.restrict_to_area(feed_beperkter, hubs_geo.loc[hubs_geo[\u0027hub\u0027] \u003d\u003d geselecteerde_hub])\n#kaart \u003d feed_beperkt.map_routes(feed_beperktst.routes.route_id.iloc[:], include_stops\u003dTrue)\n#output_folder \u003d dataiku.Folder(\"xTiM0SgH\")\n#kaart.save(output_folder.get_path() + \u0027/alleroutes\u0027+geselecteerde_hub+\u0027.html\u0027)\n#kaart"
      ],
      "outputs": []
    },
    {
      "cell_type": "markdown",
      "metadata": {},
      "source": [
        "### Of een kaartje van één route"
      ]
    },
    {
      "execution_count": 14,
      "cell_type": "code",
      "metadata": {},
      "source": [
        "# 1 route, kaarte\n#kaart \u003d feed_beperkt.map_routes(feed_beperkt.routes.route_id.iloc[:], include_stops\u003dFalse)\n#output_folder \u003d dataiku.Folder(\"xTiM0SgH\")\n#kaart.save(output_folder.get_path() + \u0027/alleroutes.html\u0027)\n#kaart"
      ],
      "outputs": []
    },
    {
      "execution_count": 15,
      "cell_type": "code",
      "metadata": {},
      "source": [
        "#kaart \u003d feed_beperkt.map_routes(feed_beperkt.routes.route_id.loc[feed_beperkt.routes.route_id \u003d\u003d \u002762512\u0027], include_stops\u003dTrue)\n#kaart"
      ],
      "outputs": []
    },
    {
      "cell_type": "markdown",
      "metadata": {},
      "source": [
        "## 2 Selectie maken van daluren"
      ]
    },
    {
      "execution_count": 16,
      "cell_type": "code",
      "metadata": {},
      "source": [
        "trip_stats \u003d feed_beperkter.compute_trip_stats()"
      ],
      "outputs": []
    },
    {
      "execution_count": 17,
      "cell_type": "code",
      "metadata": {},
      "source": [
        "trip_stats_beperkt \u003d trip_stats.loc[(trip_stats[\u0027start_time\u0027] \u003e\u003d \u002710:00:00\u0027) \u0026 (trip_stats[\u0027start_time\u0027] \u003c \u002715:00:00\u0027)]"
      ],
      "outputs": []
    },
    {
      "execution_count": 18,
      "cell_type": "code",
      "metadata": {},
      "source": [
        "route_stats \u003d feed_beperkt.compute_route_stats(trip_stats_beperkt, dates \u003d dates[0])"
      ],
      "outputs": []
    },
    {
      "cell_type": "markdown",
      "metadata": {},
      "source": [
        "# Berekeningen met de route_stats (lijnfrequentie)"
      ]
    },
    {
      "execution_count": 19,
      "cell_type": "code",
      "metadata": {},
      "source": [
        "route_stats[\u0027freq\u0027] \u003d 60/route_stats[\u0027mean_headway\u0027]"
      ],
      "outputs": []
    },
    {
      "cell_type": "markdown",
      "metadata": {},
      "source": [
        "### Voor checks, selecteren van specifieke routes"
      ]
    },
    {
      "execution_count": 20,
      "cell_type": "code",
      "metadata": {},
      "source": [
        "# route kenmerken\n#route_stats.loc[route_stats[\u0027route_id\u0027] \u003d\u003d \u002762541\u0027]"
      ],
      "outputs": []
    },
    {
      "execution_count": 21,
      "cell_type": "code",
      "metadata": {},
      "source": [
        "# trip kenmerken van een route\n#trip_stats_beperkt.loc[trip_stats_beperkt[\u0027route_id\u0027] \u003d\u003d \u002762529\u0027]"
      ],
      "outputs": []
    },
    {
      "execution_count": 22,
      "cell_type": "code",
      "metadata": {},
      "source": [
        "# stop kenmerken van een route\n# gk.stops.get_stops(feed_beperkter, date \u003d dates[0][0], route_ids \u003d [\u002719015\u0027])"
      ],
      "outputs": []
    },
    {
      "execution_count": 23,
      "cell_type": "code",
      "metadata": {},
      "source": [
        "#plotten stops\n# stops_te_plotten \u003d gk.stops.get_stops(feed_beperkter, date \u003d dates[0][0], route_ids \u003d [\u002762539\u0027])\n\n# stops_te_plotten \u003d stops_te_plotten.loc[:, [\u0027stop_id\u0027, \u0027stop_lat\u0027, \u0027stop_lon\u0027]]\n# begineind \u003d trip_stats_beperkt.loc[trip_stats_beperkt[\u0027route_id\u0027] \u003d\u003d \u002762539\u0027, [\u0027start_stop_id\u0027,\u0027end_stop_id\u0027]]\n# stops_te_plotten[\u0027kleur\u0027] \u003d np.nan\n# stops_te_plotten.loc[stops_te_plotten[\u0027stop_id\u0027].isin(begineind[\u0027start_stop_id\u0027]),\u0027kleur\u0027] \u003d \u0027green\u0027\n# stops_te_plotten.loc[stops_te_plotten[\u0027stop_id\u0027].isin(begineind[\u0027end_stop_id\u0027]),\u0027kleur\u0027] \u003d \u0027red\u0027\n# stops_te_plotten.loc[stops_te_plotten[\u0027kleur\u0027].isna(),\u0027kleur\u0027] \u003d \u0027blue\u0027  \n                     \n# stops_te_plotten[\u0027geometry\u0027] \u003d stops_te_plotten.apply(lambda x: Point(x[\u0027stop_lat\u0027],\n#                                        x[\u0027stop_lon\u0027]),\n#                        axis \u003d 1)\n# stops_geo \u003d gpd.GeoDataFrame(stops_te_plotten, geometry \u003d \u0027geometry\u0027, crs \u003d \u0027epsg:4326\u0027)\n# kaart \u003d folium.Map([52.32785, 4.664520000000001],#[52.4084118, 4.6606255],\n#                  zoom_start\u003d7,\n#                  tiles\u003d\u0027cartodbpositron\u0027)\n# for index, row in stops_geo.iterrows():\n#    folium.CircleMarker([row[\u0027stop_lat\u0027],\n#                   row[\u0027stop_lon\u0027]],\n#                  popup\u003drow[\u0027stop_id\u0027],\n#                  color\u003drow[\u0027kleur\u0027]\n#                       ).add_to(kaart)\n\n# kaart"
      ],
      "outputs": [
        {
          "output_type": "execute_result",
          "metadata": {},
          "data": {
            "text/plain": "\u003cfolium.folium.Map at 0x7f37eb198710\u003e",
            "text/html": "\u003cdiv style\u003d\"width:100%;\"\u003e\u003cdiv style\u003d\"position:relative;width:100%;height:0;padding-bottom:60%;\"\u003e\u003cspan style\u003d\"color:#565656\"\u003eMake this Notebook Trusted to load map: File -\u003e Trust Notebook\u003c/span\u003e\u003ciframe src\u003d\"about:blank\" style\u003d\"position:absolute;width:100%;height:100%;left:0;top:0;border:none !important;\" data-html\u003d%3C%21DOCTYPE%20html%3E%0A%3Chead%3E%20%20%20%20%0A%20%20%20%20%3Cmeta%20http-equiv%3D%22content-type%22%20content%3D%22text/html%3B%20charset%3DUTF-8%22%20/%3E%0A%20%20%20%20%0A%20%20%20%20%20%20%20%20%3Cscript%3E%0A%20%20%20%20%20%20%20%20%20%20%20%20L_NO_TOUCH%20%3D%20false%3B%0A%20%20%20%20%20%20%20%20%20%20%20%20L_DISABLE_3D%20%3D%20false%3B%0A%20%20%20%20%20%20%20%20%3C/script%3E%0A%20%20%20%20%0A%20%20%20%20%3Cstyle%3Ehtml%2C%20body%20%7Bwidth%3A%20100%25%3Bheight%3A%20100%25%3Bmargin%3A%200%3Bpadding%3A%200%3B%7D%3C/style%3E%0A%20%20%20%20%3Cstyle%3E%23map%20%7Bposition%3Aabsolute%3Btop%3A0%3Bbottom%3A0%3Bright%3A0%3Bleft%3A0%3B%7D%3C/style%3E%0A%20%20%20%20%3Cscript%20src%3D%22https%3A//cdn.jsdelivr.net/npm/leaflet%401.6.0/dist/leaflet.js%22%3E%3C/script%3E%0A%20%20%20%20%3Cscript%20src%3D%22https%3A//code.jquery.com/jquery-1.12.4.min.js%22%3E%3C/script%3E%0A%20%20%20%20%3Cscript%20src%3D%22https%3A//maxcdn.bootstrapcdn.com/bootstrap/3.2.0/js/bootstrap.min.js%22%3E%3C/script%3E%0A%20%20%20%20%3Cscript%20src%3D%22https%3A//cdnjs.cloudflare.com/ajax/libs/Leaflet.awesome-markers/2.0.2/leaflet.awesome-markers.js%22%3E%3C/script%3E%0A%20%20%20%20%3Clink%20rel%3D%22stylesheet%22%20href%3D%22https%3A//cdn.jsdelivr.net/npm/leaflet%401.6.0/dist/leaflet.css%22/%3E%0A%20%20%20%20%3Clink%20rel%3D%22stylesheet%22%20href%3D%22https%3A//maxcdn.bootstrapcdn.com/bootstrap/3.2.0/css/bootstrap.min.css%22/%3E%0A%20%20%20%20%3Clink%20rel%3D%22stylesheet%22%20href%3D%22https%3A//maxcdn.bootstrapcdn.com/bootstrap/3.2.0/css/bootstrap-theme.min.css%22/%3E%0A%20%20%20%20%3Clink%20rel%3D%22stylesheet%22%20href%3D%22https%3A//maxcdn.bootstrapcdn.com/font-awesome/4.6.3/css/font-awesome.min.css%22/%3E%0A%20%20%20%20%3Clink%20rel%3D%22stylesheet%22%20href%3D%22https%3A//cdnjs.cloudflare.com/ajax/libs/Leaflet.awesome-markers/2.0.2/leaflet.awesome-markers.css%22/%3E%0A%20%20%20%20%3Clink%20rel%3D%22stylesheet%22%20href%3D%22https%3A//cdn.jsdelivr.net/gh/python-visualization/folium/folium/templates/leaflet.awesome.rotate.min.css%22/%3E%0A%20%20%20%20%0A%20%20%20%20%20%20%20%20%20%20%20%20%3Cmeta%20name%3D%22viewport%22%20content%3D%22width%3Ddevice-width%2C%0A%20%20%20%20%20%20%20%20%20%20%20%20%20%20%20%20initial-scale%3D1.0%2C%20maximum-scale%3D1.0%2C%20user-scalable%3Dno%22%20/%3E%0A%20%20%20%20%20%20%20%20%20%20%20%20%3Cstyle%3E%0A%20%20%20%20%20%20%20%20%20%20%20%20%20%20%20%20%23map_9d5bea430b184abc9eb533cc7e6906e9%20%7B%0A%20%20%20%20%20%20%20%20%20%20%20%20%20%20%20%20%20%20%20%20position%3A%20relative%3B%0A%20%20%20%20%20%20%20%20%20%20%20%20%20%20%20%20%20%20%20%20width%3A%20100.0%25%3B%0A%20%20%20%20%20%20%20%20%20%20%20%20%20%20%20%20%20%20%20%20height%3A%20100.0%25%3B%0A%20%20%20%20%20%20%20%20%20%20%20%20%20%20%20%20%20%20%20%20left%3A%200.0%25%3B%0A%20%20%20%20%20%20%20%20%20%20%20%20%20%20%20%20%20%20%20%20top%3A%200.0%25%3B%0A%20%20%20%20%20%20%20%20%20%20%20%20%20%20%20%20%7D%0A%20%20%20%20%20%20%20%20%20%20%20%20%3C/style%3E%0A%20%20%20%20%20%20%20%20%0A%3C/head%3E%0A%3Cbody%3E%20%20%20%20%0A%20%20%20%20%0A%20%20%20%20%20%20%20%20%20%20%20%20%3Cdiv%20class%3D%22folium-map%22%20id%3D%22map_9d5bea430b184abc9eb533cc7e6906e9%22%20%3E%3C/div%3E%0A%20%20%20%20%20%20%20%20%0A%3C/body%3E%0A%3Cscript%3E%20%20%20%20%0A%20%20%20%20%0A%20%20%20%20%20%20%20%20%20%20%20%20var%20map_9d5bea430b184abc9eb533cc7e6906e9%20%3D%20L.map%28%0A%20%20%20%20%20%20%20%20%20%20%20%20%20%20%20%20%22map_9d5bea430b184abc9eb533cc7e6906e9%22%2C%0A%20%20%20%20%20%20%20%20%20%20%20%20%20%20%20%20%7B%0A%20%20%20%20%20%20%20%20%20%20%20%20%20%20%20%20%20%20%20%20center%3A%20%5B52.32785%2C%204.664520000000001%5D%2C%0A%20%20%20%20%20%20%20%20%20%20%20%20%20%20%20%20%20%20%20%20crs%3A%20L.CRS.EPSG3857%2C%0A%20%20%20%20%20%20%20%20%20%20%20%20%20%20%20%20%20%20%20%20zoom%3A%207%2C%0A%20%20%20%20%20%20%20%20%20%20%20%20%20%20%20%20%20%20%20%20zoomControl%3A%20true%2C%0A%20%20%20%20%20%20%20%20%20%20%20%20%20%20%20%20%20%20%20%20preferCanvas%3A%20false%2C%0A%20%20%20%20%20%20%20%20%20%20%20%20%20%20%20%20%7D%0A%20%20%20%20%20%20%20%20%20%20%20%20%29%3B%0A%0A%20%20%20%20%20%20%20%20%20%20%20%20%0A%0A%20%20%20%20%20%20%20%20%0A%20%20%20%20%0A%20%20%20%20%20%20%20%20%20%20%20%20var%20tile_layer_02de3a87cf7c428baeb351909e829a82%20%3D%20L.tileLayer%28%0A%20%20%20%20%20%20%20%20%20%20%20%20%20%20%20%20%22https%3A//cartodb-basemaps-%7Bs%7D.global.ssl.fastly.net/light_all/%7Bz%7D/%7Bx%7D/%7By%7D.png%22%2C%0A%20%20%20%20%20%20%20%20%20%20%20%20%20%20%20%20%7B%22attribution%22%3A%20%22%5Cu0026copy%3B%20%5Cu003ca%20href%3D%5C%22http%3A//www.openstreetmap.org/copyright%5C%22%5Cu003eOpenStreetMap%5Cu003c/a%5Cu003e%20contributors%20%5Cu0026copy%3B%20%5Cu003ca%20href%3D%5C%22http%3A//cartodb.com/attributions%5C%22%5Cu003eCartoDB%5Cu003c/a%5Cu003e%2C%20CartoDB%20%5Cu003ca%20href%20%3D%5C%22http%3A//cartodb.com/attributions%5C%22%5Cu003eattributions%5Cu003c/a%5Cu003e%22%2C%20%22detectRetina%22%3A%20false%2C%20%22maxNativeZoom%22%3A%2018%2C%20%22maxZoom%22%3A%2018%2C%20%22minZoom%22%3A%200%2C%20%22noWrap%22%3A%20false%2C%20%22opacity%22%3A%201%2C%20%22subdomains%22%3A%20%22abc%22%2C%20%22tms%22%3A%20false%7D%0A%20%20%20%20%20%20%20%20%20%20%20%20%29.addTo%28map_9d5bea430b184abc9eb533cc7e6906e9%29%3B%0A%20%20%20%20%20%20%20%20%0A%20%20%20%20%0A%20%20%20%20%20%20%20%20%20%20%20%20var%20circle_marker_e0326b9c2f614da49ac31d9172fff425%20%3D%20L.circleMarker%28%0A%20%20%20%20%20%20%20%20%20%20%20%20%20%20%20%20%5B52.323754%2C%204.785444%5D%2C%0A%20%20%20%20%20%20%20%20%20%20%20%20%20%20%20%20%7B%22bubblingMouseEvents%22%3A%20true%2C%20%22color%22%3A%20%22blue%22%2C%20%22dashArray%22%3A%20null%2C%20%22dashOffset%22%3A%20null%2C%20%22fill%22%3A%20false%2C%20%22fillColor%22%3A%20%22blue%22%2C%20%22fillOpacity%22%3A%200.2%2C%20%22fillRule%22%3A%20%22evenodd%22%2C%20%22lineCap%22%3A%20%22round%22%2C%20%22lineJoin%22%3A%20%22round%22%2C%20%22opacity%22%3A%201.0%2C%20%22radius%22%3A%2010%2C%20%22stroke%22%3A%20true%2C%20%22weight%22%3A%203%7D%0A%20%20%20%20%20%20%20%20%20%20%20%20%29.addTo%28map_9d5bea430b184abc9eb533cc7e6906e9%29%3B%0A%20%20%20%20%20%20%20%20%0A%20%20%20%20%0A%20%20%20%20%20%20%20%20var%20popup_bd2f66be8a5945b2b5570d66abb85085%20%3D%20L.popup%28%7B%22maxWidth%22%3A%20%22100%25%22%7D%29%3B%0A%0A%20%20%20%20%20%20%20%20%0A%20%20%20%20%20%20%20%20%20%20%20%20var%20html_14fd76cdb58d4893a7c3427fcdf7ce01%20%3D%20%24%28%60%3Cdiv%20id%3D%22html_14fd76cdb58d4893a7c3427fcdf7ce01%22%20style%3D%22width%3A%20100.0%25%3B%20height%3A%20100.0%25%3B%22%3E549022%3C/div%3E%60%29%5B0%5D%3B%0A%20%20%20%20%20%20%20%20%20%20%20%20popup_bd2f66be8a5945b2b5570d66abb85085.setContent%28html_14fd76cdb58d4893a7c3427fcdf7ce01%29%3B%0A%20%20%20%20%20%20%20%20%0A%0A%20%20%20%20%20%20%20%20circle_marker_e0326b9c2f614da49ac31d9172fff425.bindPopup%28popup_bd2f66be8a5945b2b5570d66abb85085%29%0A%20%20%20%20%20%20%20%20%3B%0A%0A%20%20%20%20%20%20%20%20%0A%20%20%20%20%0A%20%20%20%20%0A%20%20%20%20%20%20%20%20%20%20%20%20var%20circle_marker_9aad347b3e8449c8b74c68d2a1103865%20%3D%20L.circleMarker%28%0A%20%20%20%20%20%20%20%20%20%20%20%20%20%20%20%20%5B52.306585999999996%2C%204.846526%5D%2C%0A%20%20%20%20%20%20%20%20%20%20%20%20%20%20%20%20%7B%22bubblingMouseEvents%22%3A%20true%2C%20%22color%22%3A%20%22blue%22%2C%20%22dashArray%22%3A%20null%2C%20%22dashOffset%22%3A%20null%2C%20%22fill%22%3A%20false%2C%20%22fillColor%22%3A%20%22blue%22%2C%20%22fillOpacity%22%3A%200.2%2C%20%22fillRule%22%3A%20%22evenodd%22%2C%20%22lineCap%22%3A%20%22round%22%2C%20%22lineJoin%22%3A%20%22round%22%2C%20%22opacity%22%3A%201.0%2C%20%22radius%22%3A%2010%2C%20%22stroke%22%3A%20true%2C%20%22weight%22%3A%203%7D%0A%20%20%20%20%20%20%20%20%20%20%20%20%29.addTo%28map_9d5bea430b184abc9eb533cc7e6906e9%29%3B%0A%20%20%20%20%20%20%20%20%0A%20%20%20%20%0A%20%20%20%20%20%20%20%20var%20popup_3b6f51e195154ab389c7700cd06a5603%20%3D%20L.popup%28%7B%22maxWidth%22%3A%20%22100%25%22%7D%29%3B%0A%0A%20%20%20%20%20%20%20%20%0A%20%20%20%20%20%20%20%20%20%20%20%20var%20html_e3e464b52c2c424da5fa658253d7083e%20%3D%20%24%28%60%3Cdiv%20id%3D%22html_e3e464b52c2c424da5fa658253d7083e%22%20style%3D%22width%3A%20100.0%25%3B%20height%3A%20100.0%25%3B%22%3E511043%3C/div%3E%60%29%5B0%5D%3B%0A%20%20%20%20%20%20%20%20%20%20%20%20popup_3b6f51e195154ab389c7700cd06a5603.setContent%28html_e3e464b52c2c424da5fa658253d7083e%29%3B%0A%20%20%20%20%20%20%20%20%0A%0A%20%20%20%20%20%20%20%20circle_marker_9aad347b3e8449c8b74c68d2a1103865.bindPopup%28popup_3b6f51e195154ab389c7700cd06a5603%29%0A%20%20%20%20%20%20%20%20%3B%0A%0A%20%20%20%20%20%20%20%20%0A%20%20%20%20%0A%20%20%20%20%0A%20%20%20%20%20%20%20%20%20%20%20%20var%20circle_marker_9ad2b225dd2f42c58eb4d99882469119%20%3D%20L.circleMarker%28%0A%20%20%20%20%20%20%20%20%20%20%20%20%20%20%20%20%5B52.308176%2C%204.850407%5D%2C%0A%20%20%20%20%20%20%20%20%20%20%20%20%20%20%20%20%7B%22bubblingMouseEvents%22%3A%20true%2C%20%22color%22%3A%20%22blue%22%2C%20%22dashArray%22%3A%20null%2C%20%22dashOffset%22%3A%20null%2C%20%22fill%22%3A%20false%2C%20%22fillColor%22%3A%20%22blue%22%2C%20%22fillOpacity%22%3A%200.2%2C%20%22fillRule%22%3A%20%22evenodd%22%2C%20%22lineCap%22%3A%20%22round%22%2C%20%22lineJoin%22%3A%20%22round%22%2C%20%22opacity%22%3A%201.0%2C%20%22radius%22%3A%2010%2C%20%22stroke%22%3A%20true%2C%20%22weight%22%3A%203%7D%0A%20%20%20%20%20%20%20%20%20%20%20%20%29.addTo%28map_9d5bea430b184abc9eb533cc7e6906e9%29%3B%0A%20%20%20%20%20%20%20%20%0A%20%20%20%20%0A%20%20%20%20%20%20%20%20var%20popup_05c90438e6b349b9927931d7092fd27c%20%3D%20L.popup%28%7B%22maxWidth%22%3A%20%22100%25%22%7D%29%3B%0A%0A%20%20%20%20%20%20%20%20%0A%20%20%20%20%20%20%20%20%20%20%20%20var%20html_57f92cdf6e66431ab6dcc8ce9db7e27e%20%3D%20%24%28%60%3Cdiv%20id%3D%22html_57f92cdf6e66431ab6dcc8ce9db7e27e%22%20style%3D%22width%3A%20100.0%25%3B%20height%3A%20100.0%25%3B%22%3E511170%3C/div%3E%60%29%5B0%5D%3B%0A%20%20%20%20%20%20%20%20%20%20%20%20popup_05c90438e6b349b9927931d7092fd27c.setContent%28html_57f92cdf6e66431ab6dcc8ce9db7e27e%29%3B%0A%20%20%20%20%20%20%20%20%0A%0A%20%20%20%20%20%20%20%20circle_marker_9ad2b225dd2f42c58eb4d99882469119.bindPopup%28popup_05c90438e6b349b9927931d7092fd27c%29%0A%20%20%20%20%20%20%20%20%3B%0A%0A%20%20%20%20%20%20%20%20%0A%20%20%20%20%0A%20%20%20%20%0A%20%20%20%20%20%20%20%20%20%20%20%20var%20circle_marker_dd82c14bcb7e4bcda1e70b5cf8caa2bd%20%3D%20L.circleMarker%28%0A%20%20%20%20%20%20%20%20%20%20%20%20%20%20%20%20%5B52.322028%2C%204.774789%5D%2C%0A%20%20%20%20%20%20%20%20%20%20%20%20%20%20%20%20%7B%22bubblingMouseEvents%22%3A%20true%2C%20%22color%22%3A%20%22blue%22%2C%20%22dashArray%22%3A%20null%2C%20%22dashOffset%22%3A%20null%2C%20%22fill%22%3A%20false%2C%20%22fillColor%22%3A%20%22blue%22%2C%20%22fillOpacity%22%3A%200.2%2C%20%22fillRule%22%3A%20%22evenodd%22%2C%20%22lineCap%22%3A%20%22round%22%2C%20%22lineJoin%22%3A%20%22round%22%2C%20%22opacity%22%3A%201.0%2C%20%22radius%22%3A%2010%2C%20%22stroke%22%3A%20true%2C%20%22weight%22%3A%203%7D%0A%20%20%20%20%20%20%20%20%20%20%20%20%29.addTo%28map_9d5bea430b184abc9eb533cc7e6906e9%29%3B%0A%20%20%20%20%20%20%20%20%0A%20%20%20%20%0A%20%20%20%20%20%20%20%20var%20popup_ffcabd347a9b42a8990d8d7975c00aa2%20%3D%20L.popup%28%7B%22maxWidth%22%3A%20%22100%25%22%7D%29%3B%0A%0A%20%20%20%20%20%20%20%20%0A%20%20%20%20%20%20%20%20%20%20%20%20var%20html_06f05fc5a4094028b556c0744a895356%20%3D%20%24%28%60%3Cdiv%20id%3D%22html_06f05fc5a4094028b556c0744a895356%22%20style%3D%22width%3A%20100.0%25%3B%20height%3A%20100.0%25%3B%22%3E482105%3C/div%3E%60%29%5B0%5D%3B%0A%20%20%20%20%20%20%20%20%20%20%20%20popup_ffcabd347a9b42a8990d8d7975c00aa2.setContent%28html_06f05fc5a4094028b556c0744a895356%29%3B%0A%20%20%20%20%20%20%20%20%0A%0A%20%20%20%20%20%20%20%20circle_marker_dd82c14bcb7e4bcda1e70b5cf8caa2bd.bindPopup%28popup_ffcabd347a9b42a8990d8d7975c00aa2%29%0A%20%20%20%20%20%20%20%20%3B%0A%0A%20%20%20%20%20%20%20%20%0A%20%20%20%20%0A%20%20%20%20%0A%20%20%20%20%20%20%20%20%20%20%20%20var%20circle_marker_f5a7b9a2acf54e41a49cb2c0cc2b8914%20%3D%20L.circleMarker%28%0A%20%20%20%20%20%20%20%20%20%20%20%20%20%20%20%20%5B52.302538%2C%204.857718%5D%2C%0A%20%20%20%20%20%20%20%20%20%20%20%20%20%20%20%20%7B%22bubblingMouseEvents%22%3A%20true%2C%20%22color%22%3A%20%22red%22%2C%20%22dashArray%22%3A%20null%2C%20%22dashOffset%22%3A%20null%2C%20%22fill%22%3A%20false%2C%20%22fillColor%22%3A%20%22red%22%2C%20%22fillOpacity%22%3A%200.2%2C%20%22fillRule%22%3A%20%22evenodd%22%2C%20%22lineCap%22%3A%20%22round%22%2C%20%22lineJoin%22%3A%20%22round%22%2C%20%22opacity%22%3A%201.0%2C%20%22radius%22%3A%2010%2C%20%22stroke%22%3A%20true%2C%20%22weight%22%3A%203%7D%0A%20%20%20%20%20%20%20%20%20%20%20%20%29.addTo%28map_9d5bea430b184abc9eb533cc7e6906e9%29%3B%0A%20%20%20%20%20%20%20%20%0A%20%20%20%20%0A%20%20%20%20%20%20%20%20var%20popup_0ad22af31edc4cd587db2c1fc35e634b%20%3D%20L.popup%28%7B%22maxWidth%22%3A%20%22100%25%22%7D%29%3B%0A%0A%20%20%20%20%20%20%20%20%0A%20%20%20%20%20%20%20%20%20%20%20%20var%20html_d55f709e846649efaf6586951789883d%20%3D%20%24%28%60%3Cdiv%20id%3D%22html_d55f709e846649efaf6586951789883d%22%20style%3D%22width%3A%20100.0%25%3B%20height%3A%20100.0%25%3B%22%3E1238802%3C/div%3E%60%29%5B0%5D%3B%0A%20%20%20%20%20%20%20%20%20%20%20%20popup_0ad22af31edc4cd587db2c1fc35e634b.setContent%28html_d55f709e846649efaf6586951789883d%29%3B%0A%20%20%20%20%20%20%20%20%0A%0A%20%20%20%20%20%20%20%20circle_marker_f5a7b9a2acf54e41a49cb2c0cc2b8914.bindPopup%28popup_0ad22af31edc4cd587db2c1fc35e634b%29%0A%20%20%20%20%20%20%20%20%3B%0A%0A%20%20%20%20%20%20%20%20%0A%20%20%20%20%0A%20%20%20%20%0A%20%20%20%20%20%20%20%20%20%20%20%20var%20circle_marker_523e9f1441024534a55958dbabe8cad2%20%3D%20L.circleMarker%28%0A%20%20%20%20%20%20%20%20%20%20%20%20%20%20%20%20%5B52.308747%2C%204.761628%5D%2C%0A%20%20%20%20%20%20%20%20%20%20%20%20%20%20%20%20%7B%22bubblingMouseEvents%22%3A%20true%2C%20%22color%22%3A%20%22green%22%2C%20%22dashArray%22%3A%20null%2C%20%22dashOffset%22%3A%20null%2C%20%22fill%22%3A%20false%2C%20%22fillColor%22%3A%20%22green%22%2C%20%22fillOpacity%22%3A%200.2%2C%20%22fillRule%22%3A%20%22evenodd%22%2C%20%22lineCap%22%3A%20%22round%22%2C%20%22lineJoin%22%3A%20%22round%22%2C%20%22opacity%22%3A%201.0%2C%20%22radius%22%3A%2010%2C%20%22stroke%22%3A%20true%2C%20%22weight%22%3A%203%7D%0A%20%20%20%20%20%20%20%20%20%20%20%20%29.addTo%28map_9d5bea430b184abc9eb533cc7e6906e9%29%3B%0A%20%20%20%20%20%20%20%20%0A%20%20%20%20%0A%20%20%20%20%20%20%20%20var%20popup_538a45fb854944c1bf195e3b2db3aea3%20%3D%20L.popup%28%7B%22maxWidth%22%3A%20%22100%25%22%7D%29%3B%0A%0A%20%20%20%20%20%20%20%20%0A%20%20%20%20%20%20%20%20%20%20%20%20var%20html_4eb02e48f48148acbdc8943aa12788f6%20%3D%20%24%28%60%3Cdiv%20id%3D%22html_4eb02e48f48148acbdc8943aa12788f6%22%20style%3D%22width%3A%20100.0%25%3B%20height%3A%20100.0%25%3B%22%3E980494%3C/div%3E%60%29%5B0%5D%3B%0A%20%20%20%20%20%20%20%20%20%20%20%20popup_538a45fb854944c1bf195e3b2db3aea3.setContent%28html_4eb02e48f48148acbdc8943aa12788f6%29%3B%0A%20%20%20%20%20%20%20%20%0A%0A%20%20%20%20%20%20%20%20circle_marker_523e9f1441024534a55958dbabe8cad2.bindPopup%28popup_538a45fb854944c1bf195e3b2db3aea3%29%0A%20%20%20%20%20%20%20%20%3B%0A%0A%20%20%20%20%20%20%20%20%0A%20%20%20%20%0A%20%20%20%20%0A%20%20%20%20%20%20%20%20%20%20%20%20var%20circle_marker_d448e94e94374d1e809543a4ca72bc25%20%3D%20L.circleMarker%28%0A%20%20%20%20%20%20%20%20%20%20%20%20%20%20%20%20%5B52.305606%2C%204.8564940000000005%5D%2C%0A%20%20%20%20%20%20%20%20%20%20%20%20%20%20%20%20%7B%22bubblingMouseEvents%22%3A%20true%2C%20%22color%22%3A%20%22blue%22%2C%20%22dashArray%22%3A%20null%2C%20%22dashOffset%22%3A%20null%2C%20%22fill%22%3A%20false%2C%20%22fillColor%22%3A%20%22blue%22%2C%20%22fillOpacity%22%3A%200.2%2C%20%22fillRule%22%3A%20%22evenodd%22%2C%20%22lineCap%22%3A%20%22round%22%2C%20%22lineJoin%22%3A%20%22round%22%2C%20%22opacity%22%3A%201.0%2C%20%22radius%22%3A%2010%2C%20%22stroke%22%3A%20true%2C%20%22weight%22%3A%203%7D%0A%20%20%20%20%20%20%20%20%20%20%20%20%29.addTo%28map_9d5bea430b184abc9eb533cc7e6906e9%29%3B%0A%20%20%20%20%20%20%20%20%0A%20%20%20%20%0A%20%20%20%20%20%20%20%20var%20popup_25f933a231b640399aa85bb8b4776a5e%20%3D%20L.popup%28%7B%22maxWidth%22%3A%20%22100%25%22%7D%29%3B%0A%0A%20%20%20%20%20%20%20%20%0A%20%20%20%20%20%20%20%20%20%20%20%20var%20html_8771bcb0bf8741599cb42d980c0c32e1%20%3D%20%24%28%60%3Cdiv%20id%3D%22html_8771bcb0bf8741599cb42d980c0c32e1%22%20style%3D%22width%3A%20100.0%25%3B%20height%3A%20100.0%25%3B%22%3E511054%3C/div%3E%60%29%5B0%5D%3B%0A%20%20%20%20%20%20%20%20%20%20%20%20popup_25f933a231b640399aa85bb8b4776a5e.setContent%28html_8771bcb0bf8741599cb42d980c0c32e1%29%3B%0A%20%20%20%20%20%20%20%20%0A%0A%20%20%20%20%20%20%20%20circle_marker_d448e94e94374d1e809543a4ca72bc25.bindPopup%28popup_25f933a231b640399aa85bb8b4776a5e%29%0A%20%20%20%20%20%20%20%20%3B%0A%0A%20%20%20%20%20%20%20%20%0A%20%20%20%20%0A%20%20%20%20%0A%20%20%20%20%20%20%20%20%20%20%20%20var%20circle_marker_c0baaad0db4843bfa3326a7b12fb13b0%20%3D%20L.circleMarker%28%0A%20%20%20%20%20%20%20%20%20%20%20%20%20%20%20%20%5B52.323373%2C%204.786388%5D%2C%0A%20%20%20%20%20%20%20%20%20%20%20%20%20%20%20%20%7B%22bubblingMouseEvents%22%3A%20true%2C%20%22color%22%3A%20%22blue%22%2C%20%22dashArray%22%3A%20null%2C%20%22dashOffset%22%3A%20null%2C%20%22fill%22%3A%20false%2C%20%22fillColor%22%3A%20%22blue%22%2C%20%22fillOpacity%22%3A%200.2%2C%20%22fillRule%22%3A%20%22evenodd%22%2C%20%22lineCap%22%3A%20%22round%22%2C%20%22lineJoin%22%3A%20%22round%22%2C%20%22opacity%22%3A%201.0%2C%20%22radius%22%3A%2010%2C%20%22stroke%22%3A%20true%2C%20%22weight%22%3A%203%7D%0A%20%20%20%20%20%20%20%20%20%20%20%20%29.addTo%28map_9d5bea430b184abc9eb533cc7e6906e9%29%3B%0A%20%20%20%20%20%20%20%20%0A%20%20%20%20%0A%20%20%20%20%20%20%20%20var%20popup_5187922045584a2b9809dd7b05689d25%20%3D%20L.popup%28%7B%22maxWidth%22%3A%20%22100%25%22%7D%29%3B%0A%0A%20%20%20%20%20%20%20%20%0A%20%20%20%20%20%20%20%20%20%20%20%20var%20html_ed4a4e54d102441580e55f9d6743b3a2%20%3D%20%24%28%60%3Cdiv%20id%3D%22html_ed4a4e54d102441580e55f9d6743b3a2%22%20style%3D%22width%3A%20100.0%25%3B%20height%3A%20100.0%25%3B%22%3E548943%3C/div%3E%60%29%5B0%5D%3B%0A%20%20%20%20%20%20%20%20%20%20%20%20popup_5187922045584a2b9809dd7b05689d25.setContent%28html_ed4a4e54d102441580e55f9d6743b3a2%29%3B%0A%20%20%20%20%20%20%20%20%0A%0A%20%20%20%20%20%20%20%20circle_marker_c0baaad0db4843bfa3326a7b12fb13b0.bindPopup%28popup_5187922045584a2b9809dd7b05689d25%29%0A%20%20%20%20%20%20%20%20%3B%0A%0A%20%20%20%20%20%20%20%20%0A%20%20%20%20%0A%20%20%20%20%0A%20%20%20%20%20%20%20%20%20%20%20%20var%20circle_marker_d2f96388d7b94c2181158fffb05658ff%20%3D%20L.circleMarker%28%0A%20%20%20%20%20%20%20%20%20%20%20%20%20%20%20%20%5B52.308305%2C%204.850978%5D%2C%0A%20%20%20%20%20%20%20%20%20%20%20%20%20%20%20%20%7B%22bubblingMouseEvents%22%3A%20true%2C%20%22color%22%3A%20%22blue%22%2C%20%22dashArray%22%3A%20null%2C%20%22dashOffset%22%3A%20null%2C%20%22fill%22%3A%20false%2C%20%22fillColor%22%3A%20%22blue%22%2C%20%22fillOpacity%22%3A%200.2%2C%20%22fillRule%22%3A%20%22evenodd%22%2C%20%22lineCap%22%3A%20%22round%22%2C%20%22lineJoin%22%3A%20%22round%22%2C%20%22opacity%22%3A%201.0%2C%20%22radius%22%3A%2010%2C%20%22stroke%22%3A%20true%2C%20%22weight%22%3A%203%7D%0A%20%20%20%20%20%20%20%20%20%20%20%20%29.addTo%28map_9d5bea430b184abc9eb533cc7e6906e9%29%3B%0A%20%20%20%20%20%20%20%20%0A%20%20%20%20%0A%20%20%20%20%20%20%20%20var%20popup_5c203ec9914b4b65956ab09fae26095e%20%3D%20L.popup%28%7B%22maxWidth%22%3A%20%22100%25%22%7D%29%3B%0A%0A%20%20%20%20%20%20%20%20%0A%20%20%20%20%20%20%20%20%20%20%20%20var%20html_bc4a83d4d0d04eeda456b1d59ad85770%20%3D%20%24%28%60%3Cdiv%20id%3D%22html_bc4a83d4d0d04eeda456b1d59ad85770%22%20style%3D%22width%3A%20100.0%25%3B%20height%3A%20100.0%25%3B%22%3E511098%3C/div%3E%60%29%5B0%5D%3B%0A%20%20%20%20%20%20%20%20%20%20%20%20popup_5c203ec9914b4b65956ab09fae26095e.setContent%28html_bc4a83d4d0d04eeda456b1d59ad85770%29%3B%0A%20%20%20%20%20%20%20%20%0A%0A%20%20%20%20%20%20%20%20circle_marker_d2f96388d7b94c2181158fffb05658ff.bindPopup%28popup_5c203ec9914b4b65956ab09fae26095e%29%0A%20%20%20%20%20%20%20%20%3B%0A%0A%20%20%20%20%20%20%20%20%0A%20%20%20%20%0A%20%20%20%20%0A%20%20%20%20%20%20%20%20%20%20%20%20var%20circle_marker_5d3deb171f1649f587e9d81b93573550%20%3D%20L.circleMarker%28%0A%20%20%20%20%20%20%20%20%20%20%20%20%20%20%20%20%5B52.308585%2C%204.761689%5D%2C%0A%20%20%20%20%20%20%20%20%20%20%20%20%20%20%20%20%7B%22bubblingMouseEvents%22%3A%20true%2C%20%22color%22%3A%20%22red%22%2C%20%22dashArray%22%3A%20null%2C%20%22dashOffset%22%3A%20null%2C%20%22fill%22%3A%20false%2C%20%22fillColor%22%3A%20%22red%22%2C%20%22fillOpacity%22%3A%200.2%2C%20%22fillRule%22%3A%20%22evenodd%22%2C%20%22lineCap%22%3A%20%22round%22%2C%20%22lineJoin%22%3A%20%22round%22%2C%20%22opacity%22%3A%201.0%2C%20%22radius%22%3A%2010%2C%20%22stroke%22%3A%20true%2C%20%22weight%22%3A%203%7D%0A%20%20%20%20%20%20%20%20%20%20%20%20%29.addTo%28map_9d5bea430b184abc9eb533cc7e6906e9%29%3B%0A%20%20%20%20%20%20%20%20%0A%20%20%20%20%0A%20%20%20%20%20%20%20%20var%20popup_c735d83d183b4250a19375185ddb5bd2%20%3D%20L.popup%28%7B%22maxWidth%22%3A%20%22100%25%22%7D%29%3B%0A%0A%20%20%20%20%20%20%20%20%0A%20%20%20%20%20%20%20%20%20%20%20%20var%20html_9875cad29321447dbf736d1d74c99592%20%3D%20%24%28%60%3Cdiv%20id%3D%22html_9875cad29321447dbf736d1d74c99592%22%20style%3D%22width%3A%20100.0%25%3B%20height%3A%20100.0%25%3B%22%3E980505%3C/div%3E%60%29%5B0%5D%3B%0A%20%20%20%20%20%20%20%20%20%20%20%20popup_c735d83d183b4250a19375185ddb5bd2.setContent%28html_9875cad29321447dbf736d1d74c99592%29%3B%0A%20%20%20%20%20%20%20%20%0A%0A%20%20%20%20%20%20%20%20circle_marker_5d3deb171f1649f587e9d81b93573550.bindPopup%28popup_c735d83d183b4250a19375185ddb5bd2%29%0A%20%20%20%20%20%20%20%20%3B%0A%0A%20%20%20%20%20%20%20%20%0A%20%20%20%20%0A%20%20%20%20%0A%20%20%20%20%20%20%20%20%20%20%20%20var%20circle_marker_2506de67112a4f169f7649e32f237103%20%3D%20L.circleMarker%28%0A%20%20%20%20%20%20%20%20%20%20%20%20%20%20%20%20%5B52.306263%2C%204.846706%5D%2C%0A%20%20%20%20%20%20%20%20%20%20%20%20%20%20%20%20%7B%22bubblingMouseEvents%22%3A%20true%2C%20%22color%22%3A%20%22blue%22%2C%20%22dashArray%22%3A%20null%2C%20%22dashOffset%22%3A%20null%2C%20%22fill%22%3A%20false%2C%20%22fillColor%22%3A%20%22blue%22%2C%20%22fillOpacity%22%3A%200.2%2C%20%22fillRule%22%3A%20%22evenodd%22%2C%20%22lineCap%22%3A%20%22round%22%2C%20%22lineJoin%22%3A%20%22round%22%2C%20%22opacity%22%3A%201.0%2C%20%22radius%22%3A%2010%2C%20%22stroke%22%3A%20true%2C%20%22weight%22%3A%203%7D%0A%20%20%20%20%20%20%20%20%20%20%20%20%29.addTo%28map_9d5bea430b184abc9eb533cc7e6906e9%29%3B%0A%20%20%20%20%20%20%20%20%0A%20%20%20%20%0A%20%20%20%20%20%20%20%20var%20popup_dbb16b538fb94e15b6bb99fe8e21a3ca%20%3D%20L.popup%28%7B%22maxWidth%22%3A%20%22100%25%22%7D%29%3B%0A%0A%20%20%20%20%20%20%20%20%0A%20%20%20%20%20%20%20%20%20%20%20%20var%20html_7a784422d7054dd4988b211713ba72d0%20%3D%20%24%28%60%3Cdiv%20id%3D%22html_7a784422d7054dd4988b211713ba72d0%22%20style%3D%22width%3A%20100.0%25%3B%20height%3A%20100.0%25%3B%22%3E511030%3C/div%3E%60%29%5B0%5D%3B%0A%20%20%20%20%20%20%20%20%20%20%20%20popup_dbb16b538fb94e15b6bb99fe8e21a3ca.setContent%28html_7a784422d7054dd4988b211713ba72d0%29%3B%0A%20%20%20%20%20%20%20%20%0A%0A%20%20%20%20%20%20%20%20circle_marker_2506de67112a4f169f7649e32f237103.bindPopup%28popup_dbb16b538fb94e15b6bb99fe8e21a3ca%29%0A%20%20%20%20%20%20%20%20%3B%0A%0A%20%20%20%20%20%20%20%20%0A%20%20%20%20%0A%20%20%20%20%0A%20%20%20%20%20%20%20%20%20%20%20%20var%20circle_marker_7ddf36ba081248cd82491da892e43bae%20%3D%20L.circleMarker%28%0A%20%20%20%20%20%20%20%20%20%20%20%20%20%20%20%20%5B52.308097%2C%204.846699%5D%2C%0A%20%20%20%20%20%20%20%20%20%20%20%20%20%20%20%20%7B%22bubblingMouseEvents%22%3A%20true%2C%20%22color%22%3A%20%22blue%22%2C%20%22dashArray%22%3A%20null%2C%20%22dashOffset%22%3A%20null%2C%20%22fill%22%3A%20false%2C%20%22fillColor%22%3A%20%22blue%22%2C%20%22fillOpacity%22%3A%200.2%2C%20%22fillRule%22%3A%20%22evenodd%22%2C%20%22lineCap%22%3A%20%22round%22%2C%20%22lineJoin%22%3A%20%22round%22%2C%20%22opacity%22%3A%201.0%2C%20%22radius%22%3A%2010%2C%20%22stroke%22%3A%20true%2C%20%22weight%22%3A%203%7D%0A%20%20%20%20%20%20%20%20%20%20%20%20%29.addTo%28map_9d5bea430b184abc9eb533cc7e6906e9%29%3B%0A%20%20%20%20%20%20%20%20%0A%20%20%20%20%0A%20%20%20%20%20%20%20%20var%20popup_6a4a5352bebb491b991da9336a040467%20%3D%20L.popup%28%7B%22maxWidth%22%3A%20%22100%25%22%7D%29%3B%0A%0A%20%20%20%20%20%20%20%20%0A%20%20%20%20%20%20%20%20%20%20%20%20var%20html_6aa34ef00bea431abc761f75cdb0d6a3%20%3D%20%24%28%60%3Cdiv%20id%3D%22html_6aa34ef00bea431abc761f75cdb0d6a3%22%20style%3D%22width%3A%20100.0%25%3B%20height%3A%20100.0%25%3B%22%3E511204%3C/div%3E%60%29%5B0%5D%3B%0A%20%20%20%20%20%20%20%20%20%20%20%20popup_6a4a5352bebb491b991da9336a040467.setContent%28html_6aa34ef00bea431abc761f75cdb0d6a3%29%3B%0A%20%20%20%20%20%20%20%20%0A%0A%20%20%20%20%20%20%20%20circle_marker_7ddf36ba081248cd82491da892e43bae.bindPopup%28popup_6a4a5352bebb491b991da9336a040467%29%0A%20%20%20%20%20%20%20%20%3B%0A%0A%20%20%20%20%20%20%20%20%0A%20%20%20%20%0A%20%20%20%20%0A%20%20%20%20%20%20%20%20%20%20%20%20var%20circle_marker_967203c061604767ad530ec023ac7941%20%3D%20L.circleMarker%28%0A%20%20%20%20%20%20%20%20%20%20%20%20%20%20%20%20%5B52.322779%2C%204.793348%5D%2C%0A%20%20%20%20%20%20%20%20%20%20%20%20%20%20%20%20%7B%22bubblingMouseEvents%22%3A%20true%2C%20%22color%22%3A%20%22blue%22%2C%20%22dashArray%22%3A%20null%2C%20%22dashOffset%22%3A%20null%2C%20%22fill%22%3A%20false%2C%20%22fillColor%22%3A%20%22blue%22%2C%20%22fillOpacity%22%3A%200.2%2C%20%22fillRule%22%3A%20%22evenodd%22%2C%20%22lineCap%22%3A%20%22round%22%2C%20%22lineJoin%22%3A%20%22round%22%2C%20%22opacity%22%3A%201.0%2C%20%22radius%22%3A%2010%2C%20%22stroke%22%3A%20true%2C%20%22weight%22%3A%203%7D%0A%20%20%20%20%20%20%20%20%20%20%20%20%29.addTo%28map_9d5bea430b184abc9eb533cc7e6906e9%29%3B%0A%20%20%20%20%20%20%20%20%0A%20%20%20%20%0A%20%20%20%20%20%20%20%20var%20popup_290e21554f6f4248bb991d275f0a79a8%20%3D%20L.popup%28%7B%22maxWidth%22%3A%20%22100%25%22%7D%29%3B%0A%0A%20%20%20%20%20%20%20%20%0A%20%20%20%20%20%20%20%20%20%20%20%20var%20html_336a4a9fc61043c3911d4b5eccbbdcc9%20%3D%20%24%28%60%3Cdiv%20id%3D%22html_336a4a9fc61043c3911d4b5eccbbdcc9%22%20style%3D%22width%3A%20100.0%25%3B%20height%3A%20100.0%25%3B%22%3E939423%3C/div%3E%60%29%5B0%5D%3B%0A%20%20%20%20%20%20%20%20%20%20%20%20popup_290e21554f6f4248bb991d275f0a79a8.setContent%28html_336a4a9fc61043c3911d4b5eccbbdcc9%29%3B%0A%20%20%20%20%20%20%20%20%0A%0A%20%20%20%20%20%20%20%20circle_marker_967203c061604767ad530ec023ac7941.bindPopup%28popup_290e21554f6f4248bb991d275f0a79a8%29%0A%20%20%20%20%20%20%20%20%3B%0A%0A%20%20%20%20%20%20%20%20%0A%20%20%20%20%0A%20%20%20%20%0A%20%20%20%20%20%20%20%20%20%20%20%20var%20circle_marker_e5f7f74342a94b879f5ab58bc7b873f2%20%3D%20L.circleMarker%28%0A%20%20%20%20%20%20%20%20%20%20%20%20%20%20%20%20%5B52.307676%2C%204.822158%5D%2C%0A%20%20%20%20%20%20%20%20%20%20%20%20%20%20%20%20%7B%22bubblingMouseEvents%22%3A%20true%2C%20%22color%22%3A%20%22blue%22%2C%20%22dashArray%22%3A%20null%2C%20%22dashOffset%22%3A%20null%2C%20%22fill%22%3A%20false%2C%20%22fillColor%22%3A%20%22blue%22%2C%20%22fillOpacity%22%3A%200.2%2C%20%22fillRule%22%3A%20%22evenodd%22%2C%20%22lineCap%22%3A%20%22round%22%2C%20%22lineJoin%22%3A%20%22round%22%2C%20%22opacity%22%3A%201.0%2C%20%22radius%22%3A%2010%2C%20%22stroke%22%3A%20true%2C%20%22weight%22%3A%203%7D%0A%20%20%20%20%20%20%20%20%20%20%20%20%29.addTo%28map_9d5bea430b184abc9eb533cc7e6906e9%29%3B%0A%20%20%20%20%20%20%20%20%0A%20%20%20%20%0A%20%20%20%20%20%20%20%20var%20popup_98a870671ed645dfa1e644b873d99761%20%3D%20L.popup%28%7B%22maxWidth%22%3A%20%22100%25%22%7D%29%3B%0A%0A%20%20%20%20%20%20%20%20%0A%20%20%20%20%20%20%20%20%20%20%20%20var%20html_ee9873ac1c6347aeaece8ae2af667bba%20%3D%20%24%28%60%3Cdiv%20id%3D%22html_ee9873ac1c6347aeaece8ae2af667bba%22%20style%3D%22width%3A%20100.0%25%3B%20height%3A%20100.0%25%3B%22%3E417027%3C/div%3E%60%29%5B0%5D%3B%0A%20%20%20%20%20%20%20%20%20%20%20%20popup_98a870671ed645dfa1e644b873d99761.setContent%28html_ee9873ac1c6347aeaece8ae2af667bba%29%3B%0A%20%20%20%20%20%20%20%20%0A%0A%20%20%20%20%20%20%20%20circle_marker_e5f7f74342a94b879f5ab58bc7b873f2.bindPopup%28popup_98a870671ed645dfa1e644b873d99761%29%0A%20%20%20%20%20%20%20%20%3B%0A%0A%20%20%20%20%20%20%20%20%0A%20%20%20%20%0A%20%20%20%20%0A%20%20%20%20%20%20%20%20%20%20%20%20var%20circle_marker_749d42e1b1484b80a78532b7a9090634%20%3D%20L.circleMarker%28%0A%20%20%20%20%20%20%20%20%20%20%20%20%20%20%20%20%5B52.308333000000005%2C%204.847238%5D%2C%0A%20%20%20%20%20%20%20%20%20%20%20%20%20%20%20%20%7B%22bubblingMouseEvents%22%3A%20true%2C%20%22color%22%3A%20%22blue%22%2C%20%22dashArray%22%3A%20null%2C%20%22dashOffset%22%3A%20null%2C%20%22fill%22%3A%20false%2C%20%22fillColor%22%3A%20%22blue%22%2C%20%22fillOpacity%22%3A%200.2%2C%20%22fillRule%22%3A%20%22evenodd%22%2C%20%22lineCap%22%3A%20%22round%22%2C%20%22lineJoin%22%3A%20%22round%22%2C%20%22opacity%22%3A%201.0%2C%20%22radius%22%3A%2010%2C%20%22stroke%22%3A%20true%2C%20%22weight%22%3A%203%7D%0A%20%20%20%20%20%20%20%20%20%20%20%20%29.addTo%28map_9d5bea430b184abc9eb533cc7e6906e9%29%3B%0A%20%20%20%20%20%20%20%20%0A%20%20%20%20%0A%20%20%20%20%20%20%20%20var%20popup_9ab18e88bd0e4e42ae727c2fd5cdd3e8%20%3D%20L.popup%28%7B%22maxWidth%22%3A%20%22100%25%22%7D%29%3B%0A%0A%20%20%20%20%20%20%20%20%0A%20%20%20%20%20%20%20%20%20%20%20%20var%20html_d7602511b1584dc9aa8772a75cd06118%20%3D%20%24%28%60%3Cdiv%20id%3D%22html_d7602511b1584dc9aa8772a75cd06118%22%20style%3D%22width%3A%20100.0%25%3B%20height%3A%20100.0%25%3B%22%3E393324%3C/div%3E%60%29%5B0%5D%3B%0A%20%20%20%20%20%20%20%20%20%20%20%20popup_9ab18e88bd0e4e42ae727c2fd5cdd3e8.setContent%28html_d7602511b1584dc9aa8772a75cd06118%29%3B%0A%20%20%20%20%20%20%20%20%0A%0A%20%20%20%20%20%20%20%20circle_marker_749d42e1b1484b80a78532b7a9090634.bindPopup%28popup_9ab18e88bd0e4e42ae727c2fd5cdd3e8%29%0A%20%20%20%20%20%20%20%20%3B%0A%0A%20%20%20%20%20%20%20%20%0A%20%20%20%20%0A%20%20%20%20%0A%20%20%20%20%20%20%20%20%20%20%20%20var%20circle_marker_ac69dd835cba4e9a9d1197b55445d886%20%3D%20L.circleMarker%28%0A%20%20%20%20%20%20%20%20%20%20%20%20%20%20%20%20%5B52.307826%2C%204.806774%5D%2C%0A%20%20%20%20%20%20%20%20%20%20%20%20%20%20%20%20%7B%22bubblingMouseEvents%22%3A%20true%2C%20%22color%22%3A%20%22blue%22%2C%20%22dashArray%22%3A%20null%2C%20%22dashOffset%22%3A%20null%2C%20%22fill%22%3A%20false%2C%20%22fillColor%22%3A%20%22blue%22%2C%20%22fillOpacity%22%3A%200.2%2C%20%22fillRule%22%3A%20%22evenodd%22%2C%20%22lineCap%22%3A%20%22round%22%2C%20%22lineJoin%22%3A%20%22round%22%2C%20%22opacity%22%3A%201.0%2C%20%22radius%22%3A%2010%2C%20%22stroke%22%3A%20true%2C%20%22weight%22%3A%203%7D%0A%20%20%20%20%20%20%20%20%20%20%20%20%29.addTo%28map_9d5bea430b184abc9eb533cc7e6906e9%29%3B%0A%20%20%20%20%20%20%20%20%0A%20%20%20%20%0A%20%20%20%20%20%20%20%20var%20popup_1f4abfb6971e49669ebd2733cbc0e4c4%20%3D%20L.popup%28%7B%22maxWidth%22%3A%20%22100%25%22%7D%29%3B%0A%0A%20%20%20%20%20%20%20%20%0A%20%20%20%20%20%20%20%20%20%20%20%20var%20html_88326c98c100460f837610170ea3b277%20%3D%20%24%28%60%3Cdiv%20id%3D%22html_88326c98c100460f837610170ea3b277%22%20style%3D%22width%3A%20100.0%25%3B%20height%3A%20100.0%25%3B%22%3E1538717%3C/div%3E%60%29%5B0%5D%3B%0A%20%20%20%20%20%20%20%20%20%20%20%20popup_1f4abfb6971e49669ebd2733cbc0e4c4.setContent%28html_88326c98c100460f837610170ea3b277%29%3B%0A%20%20%20%20%20%20%20%20%0A%0A%20%20%20%20%20%20%20%20circle_marker_ac69dd835cba4e9a9d1197b55445d886.bindPopup%28popup_1f4abfb6971e49669ebd2733cbc0e4c4%29%0A%20%20%20%20%20%20%20%20%3B%0A%0A%20%20%20%20%20%20%20%20%0A%20%20%20%20%0A%20%20%20%20%0A%20%20%20%20%20%20%20%20%20%20%20%20var%20circle_marker_e31887586d5d40e3b96a3151aa82454c%20%3D%20L.circleMarker%28%0A%20%20%20%20%20%20%20%20%20%20%20%20%20%20%20%20%5B52.313204999999996%2C%204.811324%5D%2C%0A%20%20%20%20%20%20%20%20%20%20%20%20%20%20%20%20%7B%22bubblingMouseEvents%22%3A%20true%2C%20%22color%22%3A%20%22blue%22%2C%20%22dashArray%22%3A%20null%2C%20%22dashOffset%22%3A%20null%2C%20%22fill%22%3A%20false%2C%20%22fillColor%22%3A%20%22blue%22%2C%20%22fillOpacity%22%3A%200.2%2C%20%22fillRule%22%3A%20%22evenodd%22%2C%20%22lineCap%22%3A%20%22round%22%2C%20%22lineJoin%22%3A%20%22round%22%2C%20%22opacity%22%3A%201.0%2C%20%22radius%22%3A%2010%2C%20%22stroke%22%3A%20true%2C%20%22weight%22%3A%203%7D%0A%20%20%20%20%20%20%20%20%20%20%20%20%29.addTo%28map_9d5bea430b184abc9eb533cc7e6906e9%29%3B%0A%20%20%20%20%20%20%20%20%0A%20%20%20%20%0A%20%20%20%20%20%20%20%20var%20popup_a8749bb3a16d4e85814faebe2e4008f6%20%3D%20L.popup%28%7B%22maxWidth%22%3A%20%22100%25%22%7D%29%3B%0A%0A%20%20%20%20%20%20%20%20%0A%20%20%20%20%20%20%20%20%20%20%20%20var%20html_da5eabb18ab84934a1b3a4be6a4e3c50%20%3D%20%24%28%60%3Cdiv%20id%3D%22html_da5eabb18ab84934a1b3a4be6a4e3c50%22%20style%3D%22width%3A%20100.0%25%3B%20height%3A%20100.0%25%3B%22%3E1539860%3C/div%3E%60%29%5B0%5D%3B%0A%20%20%20%20%20%20%20%20%20%20%20%20popup_a8749bb3a16d4e85814faebe2e4008f6.setContent%28html_da5eabb18ab84934a1b3a4be6a4e3c50%29%3B%0A%20%20%20%20%20%20%20%20%0A%0A%20%20%20%20%20%20%20%20circle_marker_e31887586d5d40e3b96a3151aa82454c.bindPopup%28popup_a8749bb3a16d4e85814faebe2e4008f6%29%0A%20%20%20%20%20%20%20%20%3B%0A%0A%20%20%20%20%20%20%20%20%0A%20%20%20%20%0A%20%20%20%20%0A%20%20%20%20%20%20%20%20%20%20%20%20var%20circle_marker_e14c1ddc442f4cfda0377bdeb3cfd9c5%20%3D%20L.circleMarker%28%0A%20%20%20%20%20%20%20%20%20%20%20%20%20%20%20%20%5B52.303517%2C%204.845655000000001%5D%2C%0A%20%20%20%20%20%20%20%20%20%20%20%20%20%20%20%20%7B%22bubblingMouseEvents%22%3A%20true%2C%20%22color%22%3A%20%22blue%22%2C%20%22dashArray%22%3A%20null%2C%20%22dashOffset%22%3A%20null%2C%20%22fill%22%3A%20false%2C%20%22fillColor%22%3A%20%22blue%22%2C%20%22fillOpacity%22%3A%200.2%2C%20%22fillRule%22%3A%20%22evenodd%22%2C%20%22lineCap%22%3A%20%22round%22%2C%20%22lineJoin%22%3A%20%22round%22%2C%20%22opacity%22%3A%201.0%2C%20%22radius%22%3A%2010%2C%20%22stroke%22%3A%20true%2C%20%22weight%22%3A%203%7D%0A%20%20%20%20%20%20%20%20%20%20%20%20%29.addTo%28map_9d5bea430b184abc9eb533cc7e6906e9%29%3B%0A%20%20%20%20%20%20%20%20%0A%20%20%20%20%0A%20%20%20%20%20%20%20%20var%20popup_1f84e77245894275978165a87ffc02f6%20%3D%20L.popup%28%7B%22maxWidth%22%3A%20%22100%25%22%7D%29%3B%0A%0A%20%20%20%20%20%20%20%20%0A%20%20%20%20%20%20%20%20%20%20%20%20var%20html_5293366a37aa419aa2f30f74f89d7428%20%3D%20%24%28%60%3Cdiv%20id%3D%22html_5293366a37aa419aa2f30f74f89d7428%22%20style%3D%22width%3A%20100.0%25%3B%20height%3A%20100.0%25%3B%22%3E1539906%3C/div%3E%60%29%5B0%5D%3B%0A%20%20%20%20%20%20%20%20%20%20%20%20popup_1f84e77245894275978165a87ffc02f6.setContent%28html_5293366a37aa419aa2f30f74f89d7428%29%3B%0A%20%20%20%20%20%20%20%20%0A%0A%20%20%20%20%20%20%20%20circle_marker_e14c1ddc442f4cfda0377bdeb3cfd9c5.bindPopup%28popup_1f84e77245894275978165a87ffc02f6%29%0A%20%20%20%20%20%20%20%20%3B%0A%0A%20%20%20%20%20%20%20%20%0A%20%20%20%20%0A%20%20%20%20%0A%20%20%20%20%20%20%20%20%20%20%20%20var%20circle_marker_b101353efc244444a0e2fcbd046bb375%20%3D%20L.circleMarker%28%0A%20%20%20%20%20%20%20%20%20%20%20%20%20%20%20%20%5B52.308688000000004%2C%204.810136%5D%2C%0A%20%20%20%20%20%20%20%20%20%20%20%20%20%20%20%20%7B%22bubblingMouseEvents%22%3A%20true%2C%20%22color%22%3A%20%22blue%22%2C%20%22dashArray%22%3A%20null%2C%20%22dashOffset%22%3A%20null%2C%20%22fill%22%3A%20false%2C%20%22fillColor%22%3A%20%22blue%22%2C%20%22fillOpacity%22%3A%200.2%2C%20%22fillRule%22%3A%20%22evenodd%22%2C%20%22lineCap%22%3A%20%22round%22%2C%20%22lineJoin%22%3A%20%22round%22%2C%20%22opacity%22%3A%201.0%2C%20%22radius%22%3A%2010%2C%20%22stroke%22%3A%20true%2C%20%22weight%22%3A%203%7D%0A%20%20%20%20%20%20%20%20%20%20%20%20%29.addTo%28map_9d5bea430b184abc9eb533cc7e6906e9%29%3B%0A%20%20%20%20%20%20%20%20%0A%20%20%20%20%0A%20%20%20%20%20%20%20%20var%20popup_6ae858f0107a42cbacc26e09a7388e83%20%3D%20L.popup%28%7B%22maxWidth%22%3A%20%22100%25%22%7D%29%3B%0A%0A%20%20%20%20%20%20%20%20%0A%20%20%20%20%20%20%20%20%20%20%20%20var%20html_9d8862910fd347c1b296b98f59f66c84%20%3D%20%24%28%60%3Cdiv%20id%3D%22html_9d8862910fd347c1b296b98f59f66c84%22%20style%3D%22width%3A%20100.0%25%3B%20height%3A%20100.0%25%3B%22%3E1539869%3C/div%3E%60%29%5B0%5D%3B%0A%20%20%20%20%20%20%20%20%20%20%20%20popup_6ae858f0107a42cbacc26e09a7388e83.setContent%28html_9d8862910fd347c1b296b98f59f66c84%29%3B%0A%20%20%20%20%20%20%20%20%0A%0A%20%20%20%20%20%20%20%20circle_marker_b101353efc244444a0e2fcbd046bb375.bindPopup%28popup_6ae858f0107a42cbacc26e09a7388e83%29%0A%20%20%20%20%20%20%20%20%3B%0A%0A%20%20%20%20%20%20%20%20%0A%20%20%20%20%0A%20%20%20%20%0A%20%20%20%20%20%20%20%20%20%20%20%20var%20circle_marker_5fe453e5e0994c16b7aeddae3a64cc9c%20%3D%20L.circleMarker%28%0A%20%20%20%20%20%20%20%20%20%20%20%20%20%20%20%20%5B52.303284000000005%2C%204.845848%5D%2C%0A%20%20%20%20%20%20%20%20%20%20%20%20%20%20%20%20%7B%22bubblingMouseEvents%22%3A%20true%2C%20%22color%22%3A%20%22blue%22%2C%20%22dashArray%22%3A%20null%2C%20%22dashOffset%22%3A%20null%2C%20%22fill%22%3A%20false%2C%20%22fillColor%22%3A%20%22blue%22%2C%20%22fillOpacity%22%3A%200.2%2C%20%22fillRule%22%3A%20%22evenodd%22%2C%20%22lineCap%22%3A%20%22round%22%2C%20%22lineJoin%22%3A%20%22round%22%2C%20%22opacity%22%3A%201.0%2C%20%22radius%22%3A%2010%2C%20%22stroke%22%3A%20true%2C%20%22weight%22%3A%203%7D%0A%20%20%20%20%20%20%20%20%20%20%20%20%29.addTo%28map_9d5bea430b184abc9eb533cc7e6906e9%29%3B%0A%20%20%20%20%20%20%20%20%0A%20%20%20%20%0A%20%20%20%20%20%20%20%20var%20popup_2004dbb0acf54f8491025da3b83dd177%20%3D%20L.popup%28%7B%22maxWidth%22%3A%20%22100%25%22%7D%29%3B%0A%0A%20%20%20%20%20%20%20%20%0A%20%20%20%20%20%20%20%20%20%20%20%20var%20html_a591f441f1454aeb96b211438791b8e9%20%3D%20%24%28%60%3Cdiv%20id%3D%22html_a591f441f1454aeb96b211438791b8e9%22%20style%3D%22width%3A%20100.0%25%3B%20height%3A%20100.0%25%3B%22%3E1539905%3C/div%3E%60%29%5B0%5D%3B%0A%20%20%20%20%20%20%20%20%20%20%20%20popup_2004dbb0acf54f8491025da3b83dd177.setContent%28html_a591f441f1454aeb96b211438791b8e9%29%3B%0A%20%20%20%20%20%20%20%20%0A%0A%20%20%20%20%20%20%20%20circle_marker_5fe453e5e0994c16b7aeddae3a64cc9c.bindPopup%28popup_2004dbb0acf54f8491025da3b83dd177%29%0A%20%20%20%20%20%20%20%20%3B%0A%0A%20%20%20%20%20%20%20%20%0A%20%20%20%20%0A%20%20%20%20%0A%20%20%20%20%20%20%20%20%20%20%20%20var%20circle_marker_747d4318561b43d48761694e2ad8cf89%20%3D%20L.circleMarker%28%0A%20%20%20%20%20%20%20%20%20%20%20%20%20%20%20%20%5B52.311581%2C%204.81177%5D%2C%0A%20%20%20%20%20%20%20%20%20%20%20%20%20%20%20%20%7B%22bubblingMouseEvents%22%3A%20true%2C%20%22color%22%3A%20%22blue%22%2C%20%22dashArray%22%3A%20null%2C%20%22dashOffset%22%3A%20null%2C%20%22fill%22%3A%20false%2C%20%22fillColor%22%3A%20%22blue%22%2C%20%22fillOpacity%22%3A%200.2%2C%20%22fillRule%22%3A%20%22evenodd%22%2C%20%22lineCap%22%3A%20%22round%22%2C%20%22lineJoin%22%3A%20%22round%22%2C%20%22opacity%22%3A%201.0%2C%20%22radius%22%3A%2010%2C%20%22stroke%22%3A%20true%2C%20%22weight%22%3A%203%7D%0A%20%20%20%20%20%20%20%20%20%20%20%20%29.addTo%28map_9d5bea430b184abc9eb533cc7e6906e9%29%3B%0A%20%20%20%20%20%20%20%20%0A%20%20%20%20%0A%20%20%20%20%20%20%20%20var%20popup_a943375fa1e5454fba36428ad1eb387d%20%3D%20L.popup%28%7B%22maxWidth%22%3A%20%22100%25%22%7D%29%3B%0A%0A%20%20%20%20%20%20%20%20%0A%20%20%20%20%20%20%20%20%20%20%20%20var%20html_f12a1ea0aee042d8b3875237afb09396%20%3D%20%24%28%60%3Cdiv%20id%3D%22html_f12a1ea0aee042d8b3875237afb09396%22%20style%3D%22width%3A%20100.0%25%3B%20height%3A%20100.0%25%3B%22%3E1539889%3C/div%3E%60%29%5B0%5D%3B%0A%20%20%20%20%20%20%20%20%20%20%20%20popup_a943375fa1e5454fba36428ad1eb387d.setContent%28html_f12a1ea0aee042d8b3875237afb09396%29%3B%0A%20%20%20%20%20%20%20%20%0A%0A%20%20%20%20%20%20%20%20circle_marker_747d4318561b43d48761694e2ad8cf89.bindPopup%28popup_a943375fa1e5454fba36428ad1eb387d%29%0A%20%20%20%20%20%20%20%20%3B%0A%0A%20%20%20%20%20%20%20%20%0A%20%20%20%20%0A%20%20%20%20%0A%20%20%20%20%20%20%20%20%20%20%20%20var%20circle_marker_7445cbd65bb046f58be3a35193bf40b8%20%3D%20L.circleMarker%28%0A%20%20%20%20%20%20%20%20%20%20%20%20%20%20%20%20%5B52.310939000000005%2C%204.812849%5D%2C%0A%20%20%20%20%20%20%20%20%20%20%20%20%20%20%20%20%7B%22bubblingMouseEvents%22%3A%20true%2C%20%22color%22%3A%20%22blue%22%2C%20%22dashArray%22%3A%20null%2C%20%22dashOffset%22%3A%20null%2C%20%22fill%22%3A%20false%2C%20%22fillColor%22%3A%20%22blue%22%2C%20%22fillOpacity%22%3A%200.2%2C%20%22fillRule%22%3A%20%22evenodd%22%2C%20%22lineCap%22%3A%20%22round%22%2C%20%22lineJoin%22%3A%20%22round%22%2C%20%22opacity%22%3A%201.0%2C%20%22radius%22%3A%2010%2C%20%22stroke%22%3A%20true%2C%20%22weight%22%3A%203%7D%0A%20%20%20%20%20%20%20%20%20%20%20%20%29.addTo%28map_9d5bea430b184abc9eb533cc7e6906e9%29%3B%0A%20%20%20%20%20%20%20%20%0A%20%20%20%20%0A%20%20%20%20%20%20%20%20var%20popup_d5f79169b97742e4aa3eb41f075b9554%20%3D%20L.popup%28%7B%22maxWidth%22%3A%20%22100%25%22%7D%29%3B%0A%0A%20%20%20%20%20%20%20%20%0A%20%20%20%20%20%20%20%20%20%20%20%20var%20html_8b703cca9b9c4c0cb22d9bdd48f23b6c%20%3D%20%24%28%60%3Cdiv%20id%3D%22html_8b703cca9b9c4c0cb22d9bdd48f23b6c%22%20style%3D%22width%3A%20100.0%25%3B%20height%3A%20100.0%25%3B%22%3E1539897%3C/div%3E%60%29%5B0%5D%3B%0A%20%20%20%20%20%20%20%20%20%20%20%20popup_d5f79169b97742e4aa3eb41f075b9554.setContent%28html_8b703cca9b9c4c0cb22d9bdd48f23b6c%29%3B%0A%20%20%20%20%20%20%20%20%0A%0A%20%20%20%20%20%20%20%20circle_marker_7445cbd65bb046f58be3a35193bf40b8.bindPopup%28popup_d5f79169b97742e4aa3eb41f075b9554%29%0A%20%20%20%20%20%20%20%20%3B%0A%0A%20%20%20%20%20%20%20%20%0A%20%20%20%20%0A%20%20%20%20%0A%20%20%20%20%20%20%20%20%20%20%20%20var%20circle_marker_e628a44a2b8944a0b1a036fcc86c84c9%20%3D%20L.circleMarker%28%0A%20%20%20%20%20%20%20%20%20%20%20%20%20%20%20%20%5B52.322435%2C%204.79303%5D%2C%0A%20%20%20%20%20%20%20%20%20%20%20%20%20%20%20%20%7B%22bubblingMouseEvents%22%3A%20true%2C%20%22color%22%3A%20%22blue%22%2C%20%22dashArray%22%3A%20null%2C%20%22dashOffset%22%3A%20null%2C%20%22fill%22%3A%20false%2C%20%22fillColor%22%3A%20%22blue%22%2C%20%22fillOpacity%22%3A%200.2%2C%20%22fillRule%22%3A%20%22evenodd%22%2C%20%22lineCap%22%3A%20%22round%22%2C%20%22lineJoin%22%3A%20%22round%22%2C%20%22opacity%22%3A%201.0%2C%20%22radius%22%3A%2010%2C%20%22stroke%22%3A%20true%2C%20%22weight%22%3A%203%7D%0A%20%20%20%20%20%20%20%20%20%20%20%20%29.addTo%28map_9d5bea430b184abc9eb533cc7e6906e9%29%3B%0A%20%20%20%20%20%20%20%20%0A%20%20%20%20%0A%20%20%20%20%20%20%20%20var%20popup_06d05bc68d0d4ae7871ce7033dc16680%20%3D%20L.popup%28%7B%22maxWidth%22%3A%20%22100%25%22%7D%29%3B%0A%0A%20%20%20%20%20%20%20%20%0A%20%20%20%20%20%20%20%20%20%20%20%20var%20html_d6ce721c735641879b8a94051a1a4c4b%20%3D%20%24%28%60%3Cdiv%20id%3D%22html_d6ce721c735641879b8a94051a1a4c4b%22%20style%3D%22width%3A%20100.0%25%3B%20height%3A%20100.0%25%3B%22%3E482140%3C/div%3E%60%29%5B0%5D%3B%0A%20%20%20%20%20%20%20%20%20%20%20%20popup_06d05bc68d0d4ae7871ce7033dc16680.setContent%28html_d6ce721c735641879b8a94051a1a4c4b%29%3B%0A%20%20%20%20%20%20%20%20%0A%0A%20%20%20%20%20%20%20%20circle_marker_e628a44a2b8944a0b1a036fcc86c84c9.bindPopup%28popup_06d05bc68d0d4ae7871ce7033dc16680%29%0A%20%20%20%20%20%20%20%20%3B%0A%0A%20%20%20%20%20%20%20%20%0A%20%20%20%20%0A%20%20%20%20%0A%20%20%20%20%20%20%20%20%20%20%20%20var%20circle_marker_05cc9c8e5cb440d6a50a5e34989a0d9e%20%3D%20L.circleMarker%28%0A%20%20%20%20%20%20%20%20%20%20%20%20%20%20%20%20%5B52.321912%2C%204.774923%5D%2C%0A%20%20%20%20%20%20%20%20%20%20%20%20%20%20%20%20%7B%22bubblingMouseEvents%22%3A%20true%2C%20%22color%22%3A%20%22blue%22%2C%20%22dashArray%22%3A%20null%2C%20%22dashOffset%22%3A%20null%2C%20%22fill%22%3A%20false%2C%20%22fillColor%22%3A%20%22blue%22%2C%20%22fillOpacity%22%3A%200.2%2C%20%22fillRule%22%3A%20%22evenodd%22%2C%20%22lineCap%22%3A%20%22round%22%2C%20%22lineJoin%22%3A%20%22round%22%2C%20%22opacity%22%3A%201.0%2C%20%22radius%22%3A%2010%2C%20%22stroke%22%3A%20true%2C%20%22weight%22%3A%203%7D%0A%20%20%20%20%20%20%20%20%20%20%20%20%29.addTo%28map_9d5bea430b184abc9eb533cc7e6906e9%29%3B%0A%20%20%20%20%20%20%20%20%0A%20%20%20%20%0A%20%20%20%20%20%20%20%20var%20popup_4243b336fd4944dc84cec985b324ad89%20%3D%20L.popup%28%7B%22maxWidth%22%3A%20%22100%25%22%7D%29%3B%0A%0A%20%20%20%20%20%20%20%20%0A%20%20%20%20%20%20%20%20%20%20%20%20var%20html_4da8fd4451354753b10cc758057979f6%20%3D%20%24%28%60%3Cdiv%20id%3D%22html_4da8fd4451354753b10cc758057979f6%22%20style%3D%22width%3A%20100.0%25%3B%20height%3A%20100.0%25%3B%22%3E547797%3C/div%3E%60%29%5B0%5D%3B%0A%20%20%20%20%20%20%20%20%20%20%20%20popup_4243b336fd4944dc84cec985b324ad89.setContent%28html_4da8fd4451354753b10cc758057979f6%29%3B%0A%20%20%20%20%20%20%20%20%0A%0A%20%20%20%20%20%20%20%20circle_marker_05cc9c8e5cb440d6a50a5e34989a0d9e.bindPopup%28popup_4243b336fd4944dc84cec985b324ad89%29%0A%20%20%20%20%20%20%20%20%3B%0A%0A%20%20%20%20%20%20%20%20%0A%20%20%20%20%0A%20%20%20%20%0A%20%20%20%20%20%20%20%20%20%20%20%20var%20circle_marker_a63ff6cef7a64bf2b87c5ace2baaa03d%20%3D%20L.circleMarker%28%0A%20%20%20%20%20%20%20%20%20%20%20%20%20%20%20%20%5B52.307788%2C%204.821027%5D%2C%0A%20%20%20%20%20%20%20%20%20%20%20%20%20%20%20%20%7B%22bubblingMouseEvents%22%3A%20true%2C%20%22color%22%3A%20%22blue%22%2C%20%22dashArray%22%3A%20null%2C%20%22dashOffset%22%3A%20null%2C%20%22fill%22%3A%20false%2C%20%22fillColor%22%3A%20%22blue%22%2C%20%22fillOpacity%22%3A%200.2%2C%20%22fillRule%22%3A%20%22evenodd%22%2C%20%22lineCap%22%3A%20%22round%22%2C%20%22lineJoin%22%3A%20%22round%22%2C%20%22opacity%22%3A%201.0%2C%20%22radius%22%3A%2010%2C%20%22stroke%22%3A%20true%2C%20%22weight%22%3A%203%7D%0A%20%20%20%20%20%20%20%20%20%20%20%20%29.addTo%28map_9d5bea430b184abc9eb533cc7e6906e9%29%3B%0A%20%20%20%20%20%20%20%20%0A%20%20%20%20%0A%20%20%20%20%20%20%20%20var%20popup_5219a7a47b454fa4b305b0ce5ab8b9be%20%3D%20L.popup%28%7B%22maxWidth%22%3A%20%22100%25%22%7D%29%3B%0A%0A%20%20%20%20%20%20%20%20%0A%20%20%20%20%20%20%20%20%20%20%20%20var%20html_bd4cdd20dc674627812735341f89f7dd%20%3D%20%24%28%60%3Cdiv%20id%3D%22html_bd4cdd20dc674627812735341f89f7dd%22%20style%3D%22width%3A%20100.0%25%3B%20height%3A%20100.0%25%3B%22%3E419110%3C/div%3E%60%29%5B0%5D%3B%0A%20%20%20%20%20%20%20%20%20%20%20%20popup_5219a7a47b454fa4b305b0ce5ab8b9be.setContent%28html_bd4cdd20dc674627812735341f89f7dd%29%3B%0A%20%20%20%20%20%20%20%20%0A%0A%20%20%20%20%20%20%20%20circle_marker_a63ff6cef7a64bf2b87c5ace2baaa03d.bindPopup%28popup_5219a7a47b454fa4b305b0ce5ab8b9be%29%0A%20%20%20%20%20%20%20%20%3B%0A%0A%20%20%20%20%20%20%20%20%0A%20%20%20%20%0A%20%20%20%20%0A%20%20%20%20%20%20%20%20%20%20%20%20var%20circle_marker_921f0fa058664e0e9cb441c65dd0c322%20%3D%20L.circleMarker%28%0A%20%20%20%20%20%20%20%20%20%20%20%20%20%20%20%20%5B52.302601%2C%204.857732%5D%2C%0A%20%20%20%20%20%20%20%20%20%20%20%20%20%20%20%20%7B%22bubblingMouseEvents%22%3A%20true%2C%20%22color%22%3A%20%22green%22%2C%20%22dashArray%22%3A%20null%2C%20%22dashOffset%22%3A%20null%2C%20%22fill%22%3A%20false%2C%20%22fillColor%22%3A%20%22green%22%2C%20%22fillOpacity%22%3A%200.2%2C%20%22fillRule%22%3A%20%22evenodd%22%2C%20%22lineCap%22%3A%20%22round%22%2C%20%22lineJoin%22%3A%20%22round%22%2C%20%22opacity%22%3A%201.0%2C%20%22radius%22%3A%2010%2C%20%22stroke%22%3A%20true%2C%20%22weight%22%3A%203%7D%0A%20%20%20%20%20%20%20%20%20%20%20%20%29.addTo%28map_9d5bea430b184abc9eb533cc7e6906e9%29%3B%0A%20%20%20%20%20%20%20%20%0A%20%20%20%20%0A%20%20%20%20%20%20%20%20var%20popup_37924a7bce8149d49f89f65f71201ce5%20%3D%20L.popup%28%7B%22maxWidth%22%3A%20%22100%25%22%7D%29%3B%0A%0A%20%20%20%20%20%20%20%20%0A%20%20%20%20%20%20%20%20%20%20%20%20var%20html_ff90d20d801c4844aa9ea5d4138465bc%20%3D%20%24%28%60%3Cdiv%20id%3D%22html_ff90d20d801c4844aa9ea5d4138465bc%22%20style%3D%22width%3A%20100.0%25%3B%20height%3A%20100.0%25%3B%22%3E511143%3C/div%3E%60%29%5B0%5D%3B%0A%20%20%20%20%20%20%20%20%20%20%20%20popup_37924a7bce8149d49f89f65f71201ce5.setContent%28html_ff90d20d801c4844aa9ea5d4138465bc%29%3B%0A%20%20%20%20%20%20%20%20%0A%0A%20%20%20%20%20%20%20%20circle_marker_921f0fa058664e0e9cb441c65dd0c322.bindPopup%28popup_37924a7bce8149d49f89f65f71201ce5%29%0A%20%20%20%20%20%20%20%20%3B%0A%0A%20%20%20%20%20%20%20%20%0A%20%20%20%20%0A%20%20%20%20%0A%20%20%20%20%20%20%20%20%20%20%20%20var%20circle_marker_7bdbe8d37ac14b60893f8947716b1f7d%20%3D%20L.circleMarker%28%0A%20%20%20%20%20%20%20%20%20%20%20%20%20%20%20%20%5B52.306911%2C%204.8567279999999995%5D%2C%0A%20%20%20%20%20%20%20%20%20%20%20%20%20%20%20%20%7B%22bubblingMouseEvents%22%3A%20true%2C%20%22color%22%3A%20%22blue%22%2C%20%22dashArray%22%3A%20null%2C%20%22dashOffset%22%3A%20null%2C%20%22fill%22%3A%20false%2C%20%22fillColor%22%3A%20%22blue%22%2C%20%22fillOpacity%22%3A%200.2%2C%20%22fillRule%22%3A%20%22evenodd%22%2C%20%22lineCap%22%3A%20%22round%22%2C%20%22lineJoin%22%3A%20%22round%22%2C%20%22opacity%22%3A%201.0%2C%20%22radius%22%3A%2010%2C%20%22stroke%22%3A%20true%2C%20%22weight%22%3A%203%7D%0A%20%20%20%20%20%20%20%20%20%20%20%20%29.addTo%28map_9d5bea430b184abc9eb533cc7e6906e9%29%3B%0A%20%20%20%20%20%20%20%20%0A%20%20%20%20%0A%20%20%20%20%20%20%20%20var%20popup_548e66ebcdc747f689f29e7e1453d328%20%3D%20L.popup%28%7B%22maxWidth%22%3A%20%22100%25%22%7D%29%3B%0A%0A%20%20%20%20%20%20%20%20%0A%20%20%20%20%20%20%20%20%20%20%20%20var%20html_cb198891b9f34a0bbf64bcfaf495a6d2%20%3D%20%24%28%60%3Cdiv%20id%3D%22html_cb198891b9f34a0bbf64bcfaf495a6d2%22%20style%3D%22width%3A%20100.0%25%3B%20height%3A%20100.0%25%3B%22%3E511160%3C/div%3E%60%29%5B0%5D%3B%0A%20%20%20%20%20%20%20%20%20%20%20%20popup_548e66ebcdc747f689f29e7e1453d328.setContent%28html_cb198891b9f34a0bbf64bcfaf495a6d2%29%3B%0A%20%20%20%20%20%20%20%20%0A%0A%20%20%20%20%20%20%20%20circle_marker_7bdbe8d37ac14b60893f8947716b1f7d.bindPopup%28popup_548e66ebcdc747f689f29e7e1453d328%29%0A%20%20%20%20%20%20%20%20%3B%0A%0A%20%20%20%20%20%20%20%20%0A%20%20%20%20%0A%3C/script%3E onload\u003d\"this.contentDocument.open();this.contentDocument.write(    decodeURIComponent(this.getAttribute(\u0027data-html\u0027)));this.contentDocument.close();\" allowfullscreen webkitallowfullscreen mozallowfullscreen\u003e\u003c/iframe\u003e\u003c/div\u003e\u003c/div\u003e"
          },
          "execution_count": 23
        }
      ]
    },
    {
      "cell_type": "markdown",
      "metadata": {},
      "source": [
        "# Hubs koppelen aan route_ids"
      ]
    },
    {
      "execution_count": 24,
      "cell_type": "code",
      "metadata": {},
      "source": [
        "hub_koppeltabel \u003d pd.DataFrame()\ncounter \u003d 0\nfor index, row in hubs_geo.iterrows():\n    stops_df \u003d gk.stops.get_stops_in_area(feed_beperkter, hubs_geo.iloc[counter:counter+1])\n    stops_df \u003d stops_df[[\u0027stop_id\u0027]]\n    stops_df[\u0027hub\u0027] \u003d row[\u0027hub\u0027]\n    hub_koppeltabel \u003d pd.concat([hub_koppeltabel, stops_df])\n    counter +\u003d 1"
      ],
      "outputs": []
    },
    {
      "execution_count": 25,
      "cell_type": "code",
      "metadata": {},
      "source": [
        "# duurt lang (~242 routes)\nroute_koppeltabel \u003d pd.DataFrame()\ncounter \u003d 0\nfor route in trip_stats_beperkt[\u0027route_id\u0027].unique():\n    routestops_df \u003d gk.stops.get_stops(feed_beperkter, date \u003d dates[0][0], route_ids \u003d [route])\n    routestops_df \u003d routestops_df[[\u0027stop_id\u0027]]\n    routestops_df[\u0027route_id\u0027] \u003d route\n    route_koppeltabel \u003d pd.concat([route_koppeltabel,routestops_df])"
      ],
      "outputs": []
    },
    {
      "execution_count": 26,
      "cell_type": "code",
      "metadata": {},
      "source": [
        "routes_bij_hubs \u003d hub_koppeltabel.merge(route_koppeltabel, on \u003d \u0027stop_id\u0027, how \u003d \u0027inner\u0027)"
      ],
      "outputs": []
    },
    {
      "cell_type": "markdown",
      "metadata": {},
      "source": [
        "# Het bepalen van richtingen per stop (in 3 stappen)"
      ]
    },
    {
      "cell_type": "markdown",
      "metadata": {},
      "source": [
        "## 1 Het bepalen van begin- en eindhaltes"
      ]
    },
    {
      "execution_count": 28,
      "cell_type": "code",
      "metadata": {},
      "source": [
        "trip_stats_beperkt.loc[:, \u0027num_stops_max\u0027] \u003d trip_stats_beperkt.groupby(\u0027route_id\u0027)[\u0027num_stops\u0027].transform(max)"
      ],
      "outputs": [
        {
          "output_type": "stream",
          "name": "stderr",
          "text": "/home/dataiku/dss/code-envs/python/jeroen/lib/python3.6/site-packages/pandas/core/indexing.py:362: SettingWithCopyWarning: \nA value is trying to be set on a copy of a slice from a DataFrame.\nTry using .loc[row_indexer,col_indexer] \u003d value instead\n\nSee the caveats in the documentation: http://pandas.pydata.org/pandas-docs/stable/indexing.html#indexing-view-versus-copy\n  self.obj[key] \u003d _infer_fill_value(value)\n/home/dataiku/dss/code-envs/python/jeroen/lib/python3.6/site-packages/pandas/core/indexing.py:543: SettingWithCopyWarning: \nA value is trying to be set on a copy of a slice from a DataFrame.\nTry using .loc[row_indexer,col_indexer] \u003d value instead\n\nSee the caveats in the documentation: http://pandas.pydata.org/pandas-docs/stable/indexing.html#indexing-view-versus-copy\n  self.obj[item] \u003d s\n"
        }
      ]
    },
    {
      "execution_count": 29,
      "cell_type": "code",
      "metadata": {},
      "source": [
        "# de schiphol uitzondering: bij schipholroutes alleen de langste ritten \nschipholroutes \u003d routes_bij_hubs.loc[routes_bij_hubs[\u0027hub\u0027] \u003d\u003d \u00272.01\u0027, \u0027route_id\u0027].tolist()"
      ],
      "outputs": []
    },
    {
      "execution_count": 30,
      "cell_type": "code",
      "metadata": {},
      "source": [
        "filter_welschiphol \u003d trip_stats_beperkt[\u0027route_id\u0027].isin(schipholroutes)\nfilter_nietschiphol \u003d 1 - trip_stats_beperkt[\u0027route_id\u0027].isin(schipholroutes)\nfilter_langeroute \u003d trip_stats_beperkt[\u0027num_stops\u0027] \u003d\u003d trip_stats_beperkt[\u0027num_stops_max\u0027]"
      ],
      "outputs": []
    },
    {
      "execution_count": 31,
      "cell_type": "code",
      "metadata": {},
      "source": [
        "trip_stats_beperkt \u003d trip_stats_beperkt.loc[(filter_nietschiphol) | ((filter_welschiphol) \u0026 (filter_langeroute))]"
      ],
      "outputs": []
    },
    {
      "execution_count": 32,
      "cell_type": "code",
      "metadata": {},
      "source": [
        "start_stops \u003d trip_stats_beperkt.loc[\n    trip_stats_beperkt[\u0027start_time\u0027] \u003e\u003d \u002710:00:00\u0027, [\u0027route_id\u0027,\u0027direction_id\u0027,\u0027start_stop_id\u0027]\n]\nstart_stops.rename(columns \u003d {\u0027start_stop_id\u0027: \u0027stop_id\u0027}, inplace \u003d True)"
      ],
      "outputs": []
    },
    {
      "execution_count": 33,
      "cell_type": "code",
      "metadata": {},
      "source": [
        "end_stops \u003d trip_stats_beperkt.loc[trip_stats_beperkt[\u0027end_time\u0027] \u003c \u002715:00:00\u0027, [\u0027route_id\u0027,\u0027direction_id\u0027,\u0027end_stop_id\u0027]]\nend_stops.rename(columns \u003d {\u0027end_stop_id\u0027: \u0027stop_id\u0027}, inplace \u003d True)"
      ],
      "outputs": []
    },
    {
      "execution_count": 34,
      "cell_type": "code",
      "metadata": {},
      "source": [
        "one_directional_stops \u003d pd.concat([start_stops, end_stops], sort \u003d False)"
      ],
      "outputs": []
    },
    {
      "cell_type": "markdown",
      "metadata": {},
      "source": [
        "### Checks voor richtingbepaling"
      ]
    },
    {
      "execution_count": 50,
      "cell_type": "code",
      "metadata": {},
      "source": [
        "#one_directional_stops.loc[one_directional_stops[\u0027route_id\u0027] \u003d\u003d \u002762538\u0027]"
      ],
      "outputs": []
    },
    {
      "execution_count": 35,
      "cell_type": "code",
      "metadata": {},
      "source": [
        "#routes_bij_hubs.loc[routes_bij_hubs[\u0027route_id\u0027] \u003d\u003d \u002762539\u0027]"
      ],
      "outputs": []
    },
    {
      "execution_count": 36,
      "cell_type": "code",
      "metadata": {},
      "source": [
        "# check voor, aantal begin- en eindstops van elke route (echt veel opties!)\n#one_directional_stops.drop_duplicates()[\u0027route_id\u0027].value_counts()"
      ],
      "outputs": []
    },
    {
      "cell_type": "markdown",
      "metadata": {},
      "source": [
        "## 2 De richtingen vaststellen voor elke route x hub x stop combinatie"
      ]
    },
    {
      "execution_count": 37,
      "cell_type": "code",
      "metadata": {},
      "source": [
        "def identificeer_stoprichting(hub, stop, route, stop_df \u003d one_directional_stops):\n    stops_van_route \u003d stop_df.loc[stop_df[\u0027route_id\u0027] \u003d\u003d route]\n    if stop in stops_van_route[\u0027stop_id\u0027].tolist():\n        return 1\n    else:\n        return 2"
      ],
      "outputs": []
    },
    {
      "execution_count": 38,
      "cell_type": "code",
      "metadata": {},
      "source": [
        "routes_bij_hubs[\u0027richtingen\u0027] \u003d routes_bij_hubs.apply(\n    lambda X: identificeer_stoprichting(X[\u0027hub\u0027], X[\u0027stop_id\u0027], X[\u0027route_id\u0027]), axis \u003d 1\n)"
      ],
      "outputs": []
    },
    {
      "execution_count": 39,
      "cell_type": "code",
      "metadata": {},
      "source": [
        "frequentie_bij_hubs \u003d routes_bij_hubs.merge(route_stats[[\u0027route_id\u0027, \n                                                         \u0027freq\u0027, \n                                                         \u0027route_type\u0027]],\n                                           on \u003d \u0027route_id\u0027,\n                                           how \u003d \u0027inner\u0027)"
      ],
      "outputs": []
    },
    {
      "cell_type": "markdown",
      "metadata": {},
      "source": [
        "## 3 De data aggregeren zodanig dat elke route x hub combinatie één eigenschap heeft"
      ]
    },
    {
      "cell_type": "markdown",
      "metadata": {},
      "source": [
        "### *Binnen één hub kan een route meerdere stops hebben (begin, eind, en een stop om alleen passagiers te droppen). Dit wisselt ook behoorlijk van trip op trip. Vandaar dat uiteindelijk is gekozen voor de min functie. Als er een stop tussenzit die bekend staat als 1 richting, dan is het genoeg om die route te zien als 1-richting route. Dit blijkt goed te werken* "
      ]
    },
    {
      "execution_count": 40,
      "cell_type": "code",
      "metadata": {},
      "source": [
        "motherfile \u003d frequentie_bij_hubs.groupby([\u0027hub\u0027,\u0027route_id\u0027])[[\u0027richtingen\u0027]].min()\nmotherfile[\u0027freq\u0027] \u003d frequentie_bij_hubs.groupby([\u0027hub\u0027,\u0027route_id\u0027])[\u0027freq\u0027].mean()\nmotherfile[\u0027route_type\u0027] \u003d frequentie_bij_hubs.groupby([\u0027hub\u0027,\u0027route_id\u0027])[\u0027route_type\u0027].max()\nmotherfile \u003d motherfile.reset_index()"
      ],
      "outputs": []
    },
    {
      "execution_count": 41,
      "cell_type": "code",
      "metadata": {},
      "source": [
        "#check\n#motherfile[motherfile[\u0027hub\u0027] \u003d\u003d \u00272.01\u0027]"
      ],
      "outputs": []
    },
    {
      "cell_type": "markdown",
      "metadata": {},
      "source": [
        "# Koppelen van routenaamgegevens uit Motherfile"
      ]
    },
    {
      "execution_count": 42,
      "cell_type": "code",
      "metadata": {},
      "source": [
        "motherfile \u003d motherfile.merge(route_stats[[\u0027route_id\u0027,\u0027route_short_name\u0027]],\n                              on \u003d \u0027route_id\u0027,\n                              how \u003d \u0027inner\u0027\n                             )"
      ],
      "outputs": []
    },
    {
      "execution_count": 43,
      "cell_type": "code",
      "metadata": {},
      "source": [
        "motherfile \u003d motherfile.merge(feed_beperkt.routes[[\u0027route_id\u0027, \u0027route_long_name\u0027]],\n                             on \u003d \u0027route_id\u0027,\n                             how \u003d \u0027left\u0027)"
      ],
      "outputs": []
    },
    {
      "cell_type": "markdown",
      "metadata": {},
      "source": [
        "### Voor checks, selecteren van specifieke routes"
      ]
    },
    {
      "execution_count": 44,
      "cell_type": "code",
      "metadata": {},
      "source": [
        "#motherfile"
      ],
      "outputs": []
    },
    {
      "execution_count": 45,
      "cell_type": "code",
      "metadata": {},
      "source": [
        "# Voor checks kun je hier op naam zoeken\n#motherfile.loc[motherfile[\u0027route_long_name\u0027].str.contains(\u0027Hoorn\u0027)]\n#motherfile.loc[motherfile[\u0027route_long_name\u0027].str.contains(\u0027chiphol\u0027)]"
      ],
      "outputs": []
    },
    {
      "cell_type": "markdown",
      "metadata": {},
      "source": [
        "# Bepalen bus type (in 3 hoofdstappen)"
      ]
    },
    {
      "cell_type": "markdown",
      "metadata": {},
      "source": [
        "Dit is een kwetsbaar onderdeel van de dataverwerking. Er vindt namelijk een koppeling plaats met een Excelbestand (Motherfile), waar de namen van buslijnen en de route_id\u0027s handmatig zijn bijgehouden. Er kunnen veel dingen in de koppeling misgaan. Vandaar dat er een aantal tussenstappen worden gemaakt waarmee er achteraf kan worden nagegaan hoe de koppeling is gegaan. Als er een buslijn uit het Excelbestand niet kan worden gekoppeld, wordt dit vastgesteld. "
      ]
    },
    {
      "cell_type": "markdown",
      "metadata": {},
      "source": [
        "## 1 Opschonen Motherfile"
      ]
    },
    {
      "execution_count": 46,
      "cell_type": "code",
      "metadata": {},
      "source": [
        "# Inladen\n#bus_types \u003d dataiku.Dataset(\"bus_types\")\n#bus_types_df \u003d bus_types.get_dataframe()\ntuf_bus_types \u003d dataiku.Dataset(\"TUF_motherfile\")\ntuf_bus_types_df \u003d tuf_bus_types.get_dataframe()"
      ],
      "outputs": []
    },
    {
      "execution_count": 47,
      "cell_type": "code",
      "metadata": {},
      "source": [
        "# Kolommen netjes\ntuf_bus_types_df.rename(columns \u003d {\u0027route_id\u0027:\u0027route_id_fake\u0027, \u0027route_id_1\u0027:\u0027route_id\u0027}, inplace \u003d True)\ntuf_bus_types_df.loc[tuf_bus_types_df[\u0027route_id\u0027].isna(),\u0027route_id\u0027] \u003d tuf_bus_types_df.loc[tuf_bus_types_df[\u0027route_id\u0027].isna(), \u0027route_id_fake\u0027]"
      ],
      "outputs": []
    },
    {
      "execution_count": 48,
      "cell_type": "code",
      "metadata": {},
      "source": [
        "# De bustypen netjes\ntuf_bus_types_df.loc[:,\u0027Type\u0027] \u003d tuf_bus_types_df.loc[:,\u0027Type\u0027].fillna(\u0027irrelevant\u0027)\ntuf_bus_types_df.loc[:,\u0027Type\u0027] \u003d tuf_bus_types_df.loc[:,\u0027Type\u0027].replace({\u0027Buurtbus\u0027:\u0027Streekbus\u0027})\ntuf_bus_types_df.loc[:,\u0027koppelnaam\u0027] \u003d \\\ntuf_bus_types_df.loc[:, \u0027route_short_name\u0027].map(str) + tuf_bus_types_df.loc[:, \u0027route_long_name\u0027]"
      ],
      "outputs": []
    },
    {
      "execution_count": 49,
      "cell_type": "code",
      "metadata": {},
      "source": [
        "# Filteren: bepalen welke route echt relevant zijn\ntuf_bus_types_relevant \u003d tuf_bus_types_df.loc[tuf_bus_types_df[\u0027Type\u0027] !\u003d \u0027irrelevant\u0027]\ntuf_bus_types_relevant.loc[:, \u0027route_id\u0027] \u003d tuf_bus_types_relevant[\u0027route_id\u0027].astype(str)\ntuf_bus_types_relevant.loc[:, \u0027route_id\u0027] \u003d tuf_bus_types_relevant.loc[:, \u0027route_id\u0027].astype(float).astype(int).astype(str)"
      ],
      "outputs": []
    },
    {
      "execution_count": 50,
      "cell_type": "code",
      "metadata": {},
      "source": [
        "# Koppelnaam samenstelllen: combinatie van short en long name\nmotherfile[\u0027koppelnaam\u0027] \u003d motherfile.loc[:, \u0027route_short_name\u0027].map(str) + motherfile.loc[:, \u0027route_long_name\u0027]"
      ],
      "outputs": []
    },
    {
      "cell_type": "markdown",
      "metadata": {},
      "source": [
        "## 2 Bepalen op welke manieren Motherfile te koppelen is aan de feed (in 2 stappen)"
      ]
    },
    {
      "cell_type": "markdown",
      "metadata": {},
      "source": [
        "### 1 De koppelpogingen zelf: op id en op naam"
      ]
    },
    {
      "execution_count": 51,
      "cell_type": "code",
      "metadata": {},
      "source": [
        "op_id \u003d tuf_bus_types_relevant.merge(motherfile, on \u003d \u0027route_id\u0027, how \u003d \u0027left\u0027,suffixes \u003d (\u0027_jelle\u0027,\u0027_ruw\u0027))\nop_naam \u003d tuf_bus_types_relevant.merge(motherfile, on \u003d \u0027koppelnaam\u0027, how \u003d \u0027left\u0027,suffixes \u003d (\u0027_jelle\u0027,\u0027_ruw\u0027))"
      ],
      "outputs": []
    },
    {
      "execution_count": 52,
      "cell_type": "code",
      "metadata": {},
      "source": [
        "op_id[\u0027telling\u0027] \u003d op_id.loc[:, \u0027koppelnaam_ruw\u0027].notna()\nop_naam[\u0027telling\u0027] \u003d op_naam.loc[:, \u0027route_id_ruw\u0027].notna()"
      ],
      "outputs": []
    },
    {
      "cell_type": "markdown",
      "metadata": {},
      "source": [
        "### 2 Het resultaat van de koppelpogingen samenbrengen"
      ]
    },
    {
      "execution_count": 53,
      "cell_type": "code",
      "metadata": {},
      "source": [
        "aantal_keer_gekoppeld \u003d op_id[[\u0027route_id\u0027,\u0027telling\u0027]].merge(op_naam[[\u0027route_id_jelle\u0027,\u0027telling\u0027]],\n                                                            left_on \u003d \u0027route_id\u0027,\n                                                            right_on \u003d \u0027route_id_jelle\u0027,\n                                                            how \u003d \u0027inner\u0027,\n                                                            suffixes \u003d (\u0027_op_id\u0027,\u0027_op_naam\u0027))"
      ],
      "outputs": []
    },
    {
      "execution_count": 54,
      "cell_type": "code",
      "metadata": {},
      "source": [
        "aantal_keer_gekoppeld.fillna(0, inplace \u003d True)\naantal_keer_gekoppeld[\u0027telling_totaal\u0027] \u003d (aantal_keer_gekoppeld.loc[:, \u0027telling_op_id\u0027]*1) + (aantal_keer_gekoppeld.loc[:, \u0027telling_op_naam\u0027]*1)\naantal_keer_gekoppeld \u003d aantal_keer_gekoppeld.drop_duplicates()"
      ],
      "outputs": []
    },
    {
      "cell_type": "markdown",
      "metadata": {},
      "source": [
        "### Voor checks, het succes van het koppelen op de twee manieren"
      ]
    },
    {
      "execution_count": 55,
      "cell_type": "code",
      "metadata": {},
      "source": [
        "# 29 koppelen niet, 154 wel (inmiddels koppelen 8 niet, 175 wel)\naantal_keer_gekoppeld[\u0027telling_totaal\u0027].value_counts()"
      ],
      "outputs": [
        {
          "output_type": "execute_result",
          "metadata": {},
          "data": {
            "text/plain": "2    144\n1     27\n0     12\nName: telling_totaal, dtype: int64"
          },
          "execution_count": 55
        }
      ]
    },
    {
      "execution_count": 56,
      "cell_type": "code",
      "metadata": {},
      "source": [
        "# dit is het Motherfile bestand + de info of de lijnen koppelen\nkoppelsucces \u003d tuf_bus_types_relevant.merge(aantal_keer_gekoppeld[[\u0027telling_totaal\u0027, \u0027telling_op_id\u0027, \u0027telling_op_naam\u0027, \u0027route_id\u0027]], on \u003d \u0027route_id\u0027, how \u003d \u0027left\u0027)"
      ],
      "outputs": []
    },
    {
      "execution_count": 57,
      "cell_type": "code",
      "metadata": {},
      "source": [
        "# Welke buslijnen uit Motherfile zijn niet terug te vinden in de deed? \n#koppelsucces.loc[koppelsucces[\u0027telling_totaal\u0027]\u003d\u003d0]"
      ],
      "outputs": []
    },
    {
      "cell_type": "markdown",
      "metadata": {},
      "source": [
        "## 3 Het daadwerkelijk koppelen van Motherfile aan de feed (in 3 stappen)"
      ]
    },
    {
      "cell_type": "markdown",
      "metadata": {},
      "source": [
        "### 1 Selectie maken van routes die te koppelen zijn (apart voor route_id en naam)"
      ]
    },
    {
      "execution_count": 58,
      "cell_type": "code",
      "metadata": {},
      "source": [
        "op_id \u003d koppelsucces.loc[koppelsucces[\u0027telling_op_id\u0027] \u003d\u003d True]\nop_naam \u003d koppelsucces.loc[(koppelsucces[\u0027telling_totaal\u0027] \u003d\u003d 1) \u0026 (koppelsucces[\u0027telling_op_naam\u0027] \u003d\u003d True)]"
      ],
      "outputs": []
    },
    {
      "cell_type": "markdown",
      "metadata": {},
      "source": [
        "### 2 Het daadwerkelijke koppelen"
      ]
    },
    {
      "execution_count": 59,
      "cell_type": "code",
      "metadata": {},
      "source": [
        "routes_met_voervoerstype1 \u003d motherfile.merge(op_id[[\u0027route_id\u0027,\n                                                             \u0027bus_type\u0027,\n                                                             \u0027Type\u0027,\n                                                          \u0027koppelnaam\u0027\n                                                            ]], on \u003d \u0027route_id\u0027, how \u003d \u0027inner\u0027,suffixes \u003d (\u0027_ruw\u0027,\u0027_jelle\u0027))\nroutes_met_voervoerstype2 \u003d motherfile.merge(op_naam[[\u0027route_id\u0027,\n                                                             \u0027bus_type\u0027,\n                                                             \u0027Type\u0027,\n                                                                   \u0027koppelnaam\u0027\n                                                            ]], on \u003d \u0027koppelnaam\u0027, how \u003d \u0027inner\u0027,suffixes \u003d (\u0027_ruw\u0027,\u0027_jelle\u0027))"
      ],
      "outputs": []
    },
    {
      "cell_type": "markdown",
      "metadata": {},
      "source": [
        "### 3 Samenbrengen van het resultaat van beide koppelingen"
      ]
    },
    {
      "execution_count": 60,
      "cell_type": "code",
      "metadata": {},
      "source": [
        "routes_met_voervoerstype \u003d pd.concat([routes_met_voervoerstype1,routes_met_voervoerstype2], sort \u003d False)"
      ],
      "outputs": []
    },
    {
      "execution_count": 61,
      "cell_type": "code",
      "metadata": {},
      "source": [
        "# daar waar koppeling niet lukte op route_id, de route_id opvullen met het resultaat van de koppeling op naam\nroutes_met_voervoerstype.loc[routes_met_voervoerstype[\u0027route_id\u0027].isna(), \u0027route_id\u0027] \u003d \\\nroutes_met_voervoerstype.loc[routes_met_voervoerstype[\u0027route_id\u0027].isna(),\u0027route_id_ruw\u0027]"
      ],
      "outputs": []
    },
    {
      "execution_count": 62,
      "cell_type": "code",
      "metadata": {},
      "source": [
        "# het eindresultaat van het koppelen weer terugbrengen naar de tabel met alle relevante data \nroutes_met_voervoerstype_beter \u003d motherfile.merge(routes_met_voervoerstype[[\u0027route_id\u0027, \u0027Type\u0027]],\n                                                 on \u003d \u0027route_id\u0027,\n                                                 how \u003d \u0027left\u0027)"
      ],
      "outputs": []
    },
    {
      "execution_count": 63,
      "cell_type": "code",
      "metadata": {},
      "source": [
        "motherfile \u003d routes_met_voervoerstype_beter.drop_duplicates()"
      ],
      "outputs": []
    },
    {
      "cell_type": "markdown",
      "metadata": {},
      "source": [
        "# Bepalen van alle vervoerstypen"
      ]
    },
    {
      "execution_count": 64,
      "cell_type": "code",
      "metadata": {},
      "source": [
        "vervoerstypes_vertaling \u003d {3:\u0027bus\u0027, 2:\u0027trein\u0027, 0:\u0027tram\u0027, 4:\u0027pont\u0027, 1:\u0027metro\u0027}\nmotherfile.loc[:,\u0027route_type\u0027] \u003d \\\nmotherfile[\u0027route_type\u0027].replace(vervoerstypes_vertaling)"
      ],
      "outputs": []
    },
    {
      "execution_count": 65,
      "cell_type": "code",
      "metadata": {},
      "source": [
        "def bepaal_bustype(data):\n    if type(data[\u0027Type\u0027]) !\u003d float:\n        return data[\u0027Type\u0027]\n    else:\n        return \u0027onbekend bustype\u0027\n\ndef bepaal_treintype(data):\n    try:\n        if re.findall(r\u0027(ntercity)\u0027, data[\u0027route_short_name\u0027]):\n            return \u0027Intercity Trein\u0027\n        elif re.findall(r\u0027(neltrein)\u0027, data[\u0027route_short_name\u0027]):\n            return \u0027Intercity Trein\u0027\n        elif re.findall(r\u0027(printer)\u0027, data[\u0027route_short_name\u0027]):\n            return \u0027Sprinter Trein\u0027\n        elif re.findall(r\u0027(toptrein)\u0027, data[\u0027route_short_name\u0027]):\n            return \u0027Sprinter Trein\u0027\n        else:\n            return \u0027onbekend treintype\u0027\n    except:\n        return \u0027let op, gaat iets mis\u0027\n\ndef bepaal_vervoer_subtype(data):\n    if data[\u0027route_type\u0027] \u003d\u003d \u0027bus\u0027:\n        return bepaal_bustype(data)\n    elif data[\u0027route_type\u0027] \u003d\u003d \u0027trein\u0027:\n        return bepaal_treintype(data)\n    elif data[\u0027route_type\u0027] \u003d\u003d \u0027tram\u0027:\n        return \u0027Tram\u0027\n    elif data[\u0027route_type\u0027] \u003d\u003d \u0027pont\u0027:\n        return \u0027Pont\u0027\n    elif data[\u0027route_type\u0027] \u003d\u003d \u0027metro\u0027:\n        return \u0027Metro/Lightrail\u0027\n    else:\n        return \u0027\u0027"
      ],
      "outputs": []
    },
    {
      "execution_count": 66,
      "cell_type": "code",
      "metadata": {},
      "source": [
        "motherfile.loc[:, \u0027vervoerstype\u0027] \u003d motherfile.loc[:,:].apply(lambda rij: bepaal_vervoer_subtype(rij), axis \u003d 1)"
      ],
      "outputs": []
    },
    {
      "execution_count": 67,
      "cell_type": "code",
      "metadata": {},
      "source": [
        "# Als het vervoerstype een onbekend bustype is, kan deze worden verwijderd (kan bijv. een tijdelijke ns-bus zijn)\nmotherfile \u003d motherfile.loc[motherfile[\u0027vervoerstype\u0027] !\u003d \u0027onbekend bustype\u0027]"
      ],
      "outputs": []
    },
    {
      "execution_count": 68,
      "cell_type": "code",
      "metadata": {},
      "source": [
        "#motherfile.loc[motherfile[\u0027route_short_name\u0027] \u003d\u003d \u002721\u0027]"
      ],
      "outputs": []
    },
    {
      "cell_type": "markdown",
      "metadata": {},
      "source": [
        "### Voor checks, in het eindbestand"
      ]
    },
    {
      "execution_count": 69,
      "cell_type": "code",
      "metadata": {},
      "source": [
        "# Voor welke lijnen is er geen frequentie vastgesteld (te weinig trips)? \n#motherfile.loc[motherfile[\u0027freq\u0027].isna()]"
      ],
      "outputs": []
    },
    {
      "cell_type": "markdown",
      "metadata": {},
      "source": [
        "# Het herstructureren van het eindresultaat: tabel in de juiste vorm"
      ]
    },
    {
      "cell_type": "markdown",
      "metadata": {},
      "source": [
        "### Draaien van tabel"
      ]
    },
    {
      "execution_count": 70,
      "cell_type": "code",
      "metadata": {},
      "source": [
        "motherfile_pivot \u003d motherfile.pivot_table(values\u003d\u0027freq\u0027,\n    index\u003d[\u0027hub\u0027,\u0027richtingen\u0027],\n    columns\u003d\u0027vervoerstype\u0027,\n    aggfunc\u003d\u0027sum\u0027,\n                      fill_value \u003d 0)"
      ],
      "outputs": []
    },
    {
      "execution_count": 71,
      "cell_type": "code",
      "metadata": {},
      "source": [
        "motherfile_pivot.reset_index(inplace \u003d True)"
      ],
      "outputs": []
    },
    {
      "cell_type": "markdown",
      "metadata": {},
      "source": [
        "### Toevoegen van station/hubnamen"
      ]
    },
    {
      "execution_count": 72,
      "cell_type": "code",
      "metadata": {},
      "source": [
        "motherfile_pivot \u003d motherfile_pivot.merge(stationsnamen_df,\n                                         left_on \u003d \u0027hub\u0027,\n                                         right_on \u003d \u0027Code\u0027,\n                                         how \u003d \u0027left\u0027\n                                         )"
      ],
      "outputs": []
    },
    {
      "execution_count": 73,
      "cell_type": "code",
      "metadata": {},
      "source": [
        "motherfile_pivot.drop(columns \u003d \u0027hub\u0027, inplace \u003d True)"
      ],
      "outputs": []
    },
    {
      "cell_type": "markdown",
      "metadata": {},
      "source": [
        "### Hernoemen en toevoegen van kolomnamen"
      ]
    },
    {
      "execution_count": 74,
      "cell_type": "code",
      "metadata": {},
      "source": [
        "motherfile_pivot.rename(\n    columns \u003d {\n        \u0027onbekend treintype\u0027: \u0027HSL trein\u0027, \n        \u0027Intercity Trein\u0027: \u0027Intercity trein\u0027,\n        \u0027Sprinter Trein\u0027: \u0027Sprinter trein\u0027,\n        \u0027Metro/Lightrail\u0027: \u0027Metro/lightrail\u0027,\n        \u0027Streekbus\u0027: \u0027HOV/streekbus\u0027     \n    },\n    inplace \u003d True\n)"
      ],
      "outputs": []
    },
    {
      "execution_count": 75,
      "cell_type": "code",
      "metadata": {},
      "source": [
        "motherfile_pivot.loc[:, \u0027R-net\u0027] \u003d 0\nmotherfile_pivot.loc[:, \u0027(Inter)nationaal bus\u0027] \u003d 0"
      ],
      "outputs": []
    },
    {
      "cell_type": "markdown",
      "metadata": {},
      "source": [
        "### Aanpassen van waarden van het attribuut \u0027richtingen\u0027"
      ]
    },
    {
      "execution_count": 76,
      "cell_type": "code",
      "metadata": {},
      "source": [
        "motherfile_pivot.loc[:, \u0027richtingen\u0027] \u003d motherfile_pivot.loc[:, \u0027richtingen\u0027].replace(\n    {1 : \u0027Een-richting\u0027, 2 : \u0027twee-richting\u0027})"
      ],
      "outputs": []
    },
    {
      "cell_type": "markdown",
      "metadata": {},
      "source": [
        "### Aanpassen van hubcode"
      ]
    },
    {
      "execution_count": 77,
      "cell_type": "code",
      "metadata": {},
      "source": [
        "motherfile_pivot[\u0027Code\u0027] \u003d motherfile_pivot[\u0027Code\u0027].astype(str)"
      ],
      "outputs": []
    },
    {
      "cell_type": "markdown",
      "metadata": {},
      "source": [
        "### Nog een keer heen en weer terug draaien van tabel voor perfecte resultaat"
      ]
    },
    {
      "execution_count": 78,
      "cell_type": "code",
      "metadata": {},
      "source": [
        "melted \u003d motherfile_pivot.melt(\n    id_vars \u003d [\u0027Code\u0027, \u0027Station\u0027,\u0027richtingen\u0027],\n    value_vars \u003d [\n        \u0027Stadsbus\u0027,\n        \u0027HSL trein\u0027,\n        \u0027R-net\u0027,         \n        \u0027Intercity trein\u0027, \n        \u0027(Inter)nationaal bus\u0027,        \n        \u0027Metro/lightrail\u0027, \n        \u0027HOV/streekbus\u0027,         \n        \u0027Sprinter trein\u0027, \n        \u0027Tram\u0027, \n        \u0027Pont\u0027 \n    ]   \n)"
      ],
      "outputs": []
    },
    {
      "execution_count": 79,
      "cell_type": "code",
      "metadata": {},
      "source": [
        "eindresultaat \u003d melted.pivot_table(\n    values \u003d [\u0027value\u0027],\n    columns \u003d [\u0027richtingen\u0027, \u0027variable\u0027],\n    index \u003d [\u0027Code\u0027, \u0027Station\u0027]\n).reset_index()"
      ],
      "outputs": []
    },
    {
      "execution_count": 80,
      "cell_type": "code",
      "metadata": {},
      "source": [
        "eindresultaat.fillna(0, inplace \u003d True)"
      ],
      "outputs": []
    },
    {
      "cell_type": "markdown",
      "metadata": {},
      "source": [
        "# Het wegschrijven van het eindresultaat"
      ]
    },
    {
      "execution_count": 111,
      "cell_type": "code",
      "metadata": {},
      "source": [
        "# Eindresultaat\nvo_data \u003d dataiku.Dataset(\"VO_data\")\nvo_data.write_with_schema(motherfile)"
      ],
      "outputs": [
        {
          "output_type": "stream",
          "name": "stdout",
          "text": "526 rows successfully written (w1sGm3u03B)\n"
        }
      ]
    },
    {
      "execution_count": 112,
      "cell_type": "code",
      "metadata": {},
      "source": [
        "# Koppelevaluatie\nkoppel_evaluatie \u003d dataiku.Dataset(\"koppel_evaluatie\")\nkoppel_evaluatie.write_with_schema(koppelsucces)"
      ],
      "outputs": [
        {
          "output_type": "stream",
          "name": "stdout",
          "text": "183 rows successfully written (4q3qKWthkr)\n"
        }
      ]
    },
    {
      "execution_count": 113,
      "cell_type": "code",
      "metadata": {},
      "source": [
        "# Eindresultaat in juiste vorm (als het niet nauw zou luisteren)\n#vo_data_pivot \u003d dataiku.Dataset(\"VO_data_pivot\")\n#vo_data_pivot.write_with_schema(motherfile_pivot)"
      ],
      "outputs": []
    },
    {
      "cell_type": "markdown",
      "metadata": {},
      "source": [
        "## Toch nog een oplossing moeten maken voor csv in juiste vorm voor app"
      ]
    },
    {
      "execution_count": 117,
      "cell_type": "code",
      "metadata": {},
      "source": [
        "eerste_regel \u003d \u0027;;Een-richting;;;;;;;;;;twee-richting;;;;;;;;;\\n\u0027"
      ],
      "outputs": []
    },
    {
      "execution_count": 118,
      "cell_type": "code",
      "metadata": {},
      "source": [
        "tweede_regel \u003d \u0027Code;Station\u0027\nfor kolomnaam in eindresultaat.columns.get_level_values(2):\n    if kolomnaam !\u003d \u0027\u0027:\n        tweede_regel +\u003d \u0027;\u0027\n        tweede_regel +\u003d kolomnaam\ntweede_regel +\u003d \u0027\\n\u0027"
      ],
      "outputs": []
    },
    {
      "execution_count": 119,
      "cell_type": "code",
      "metadata": {},
      "source": [
        "output_folder \u003d dataiku.Folder(\"2xAuVQdW\")\nfile \u003d open(output_folder.get_path() + \u0027/GTFS 2019.csv\u0027, \"w\")\nfile.write(eerste_regel)\nfile.write(tweede_regel)\nfile.close()\neindresultaat.to_csv(\n    output_folder.get_path() + \u0027/GTFS 2019.csv\u0027, \n    sep \u003d \u0027;\u0027, decimal \u003d \u0027,\u0027, \n    index_label \u003d False, \n    index \u003d False, \n    header \u003d False,\n    mode \u003d \u0027a\u0027\n)"
      ],
      "outputs": []
    }
  ]
}